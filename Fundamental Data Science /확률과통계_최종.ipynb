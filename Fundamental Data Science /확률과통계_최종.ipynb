{
 "cells": [
  {
   "cell_type": "code",
   "execution_count": 1,
   "id": "b780fe9f",
   "metadata": {},
   "outputs": [],
   "source": [
    "import numpy as np\n",
    "import pandas as pd\n",
    "import matplotlib.pyplot as plt\n",
    "import scipy as sp\n",
    "from scipy import stats"
   ]
  },
  {
   "cell_type": "markdown",
   "id": "454a7ff8",
   "metadata": {},
   "source": [
    "## 정규분포 함수"
   ]
  },
  {
   "cell_type": "code",
   "execution_count": 2,
   "id": "9e94efb2",
   "metadata": {},
   "outputs": [
    {
     "data": {
      "text/plain": [
       "0.24197072451914337"
      ]
     },
     "execution_count": 2,
     "metadata": {},
     "output_type": "execute_result"
    }
   ],
   "source": [
    "x=3\n",
    "mu=4\n",
    "sigma=1\n",
    "stats.norm.pdf(loc=mu,scale=sigma,x=3)"
   ]
  },
  {
   "cell_type": "code",
   "execution_count": 3,
   "id": "355d4f38",
   "metadata": {},
   "outputs": [
    {
     "data": {
      "text/plain": [
       "0.15865525393145707"
      ]
     },
     "execution_count": 3,
     "metadata": {},
     "output_type": "execute_result"
    }
   ],
   "source": [
    "stats.norm.cdf(loc=mu,scale=sigma,x=3)"
   ]
  },
  {
   "cell_type": "code",
   "execution_count": 16,
   "id": "4caf430d",
   "metadata": {},
   "outputs": [],
   "source": [
    "support=np.arange(0,8,0.1)\n",
    "norm_pdf=stats.norm.pdf(loc=4,scale=1,x=support)\n",
    "norm_cdf=stats.norm.cdf(loc=mu,scale=sigma,x=support)"
   ]
  },
  {
   "cell_type": "code",
   "execution_count": 21,
   "id": "5c363b8d",
   "metadata": {},
   "outputs": [
    {
     "data": {
      "text/plain": [
       "[<matplotlib.lines.Line2D at 0x26c2b15de50>]"
      ]
     },
     "execution_count": 21,
     "metadata": {},
     "output_type": "execute_result"
    },
    {
     "data": {
      "image/png": "[encoded data removed]",
      "text/plain": [
       "<Figure size 432x288 with 1 Axes>"
      ]
     },
     "metadata": {
      "needs_background": "light"
     },
     "output_type": "display_data"
    }
   ],
   "source": [
    "plt.plot(support,norm_pdf,color='black')\n",
    "plt.plot(support,norm_cdf,color='red')"
   ]
  },
  {
   "cell_type": "markdown",
   "id": "504e0426",
   "metadata": {},
   "source": [
    "## 하측확률과 퍼센트포인트"
   ]
  },
  {
   "cell_type": "code",
   "execution_count": 23,
   "id": "44cdb8e4",
   "metadata": {},
   "outputs": [
    {
     "data": {
      "text/plain": [
       "-1.6448536269514729"
      ]
     },
     "execution_count": 23,
     "metadata": {},
     "output_type": "execute_result"
    }
   ],
   "source": [
    "stats.norm.ppf(loc=0,scale=1,q=0.05)"
   ]
  },
  {
   "cell_type": "code",
   "execution_count": 24,
   "id": "0d28b49e",
   "metadata": {},
   "outputs": [
    {
     "data": {
      "text/plain": [
       "-1.9599639845400545"
      ]
     },
     "execution_count": 24,
     "metadata": {},
     "output_type": "execute_result"
    }
   ],
   "source": [
    "stats.norm.ppf(loc=0,scale=1,q=0.025)"
   ]
  },
  {
   "cell_type": "code",
   "execution_count": 25,
   "id": "0041784a",
   "metadata": {},
   "outputs": [
    {
     "data": {
      "text/plain": [
       "1.959963984540054"
      ]
     },
     "execution_count": 25,
     "metadata": {},
     "output_type": "execute_result"
    }
   ],
   "source": [
    "stats.norm.ppf(loc=0,scale=1,q=0.975)"
   ]
  },
  {
   "cell_type": "markdown",
   "id": "440a0ae9",
   "metadata": {},
   "source": [
    "## t-분포"
   ]
  },
  {
   "cell_type": "code",
   "execution_count": 26,
   "id": "2c414f1e",
   "metadata": {},
   "outputs": [
    {
     "data": {
      "text/plain": [
       "0.33669389792822757"
      ]
     },
     "execution_count": 26,
     "metadata": {},
     "output_type": "execute_result"
    }
   ],
   "source": [
    "stats.t.pdf(x=0.5,df=8)"
   ]
  },
  {
   "cell_type": "code",
   "execution_count": 37,
   "id": "10ea1167",
   "metadata": {},
   "outputs": [],
   "source": [
    "support=np.arange(-8,8,0.1)\n",
    "norm_pdf=stats.norm.pdf(loc=0,scale=1,x=support)\n",
    "t_pdf=stats.t.pdf(x=support,df=5)"
   ]
  },
  {
   "cell_type": "code",
   "execution_count": 38,
   "id": "f7f00d2e",
   "metadata": {},
   "outputs": [
    {
     "data": {
      "text/plain": [
       "[<matplotlib.lines.Line2D at 0x26c2b3d7730>]"
      ]
     },
     "execution_count": 38,
     "metadata": {},
     "output_type": "execute_result"
    },
    {
     "data": {
      "image/png": "[encoded data removed]",
      "text/plain": [
       "<Figure size 432x288 with 1 Axes>"
      ]
     },
     "metadata": {
      "needs_background": "light"
     },
     "output_type": "display_data"
    }
   ],
   "source": [
    "plt.plot(support,norm_pdf,color='black')\n",
    "plt.plot(support,t_pdf,color='red')"
   ]
  },
  {
   "cell_type": "markdown",
   "id": "fbe85445",
   "metadata": {},
   "source": [
    "## 신뢰구간"
   ]
  },
  {
   "cell_type": "code",
   "execution_count": 39,
   "id": "e88bbc89",
   "metadata": {},
   "outputs": [],
   "source": [
    "t_975=stats.t.ppf(q=0.975,df=8)"
   ]
  },
  {
   "cell_type": "code",
   "execution_count": 40,
   "id": "83310f03",
   "metadata": {},
   "outputs": [
    {
     "data": {
      "text/plain": [
       "2.3060041350333704"
      ]
     },
     "execution_count": 40,
     "metadata": {},
     "output_type": "execute_result"
    }
   ],
   "source": [
    "t_975"
   ]
  },
  {
   "cell_type": "code",
   "execution_count": 41,
   "id": "01c45529",
   "metadata": {},
   "outputs": [
    {
     "name": "stderr",
     "output_type": "stream",
     "text": [
      "<ipython-input-41-4d94c57c9de7>:1: DeprecationWarning: scipy.sqrt is deprecated and will be removed in SciPy 2.0.0, use numpy.lib.scimath.sqrt instead\n",
      "  se=sigma/sp.sqrt(8)\n"
     ]
    }
   ],
   "source": [
    "se=sigma/sp.sqrt(8)"
   ]
  },
  {
   "cell_type": "code",
   "execution_count": 42,
   "id": "ab6ed7fb",
   "metadata": {},
   "outputs": [],
   "source": [
    "sample_mean=4.2"
   ]
  },
  {
   "cell_type": "code",
   "execution_count": 43,
   "id": "af79d805",
   "metadata": {},
   "outputs": [
    {
     "data": {
      "text/plain": [
       "5.015295580663158"
      ]
     },
     "execution_count": 43,
     "metadata": {},
     "output_type": "execute_result"
    }
   ],
   "source": [
    "sample_mean+t_975*se"
   ]
  },
  {
   "cell_type": "code",
   "execution_count": 44,
   "id": "c3d93075",
   "metadata": {},
   "outputs": [
    {
     "data": {
      "text/plain": [
       "3.3847044193368427"
      ]
     },
     "execution_count": 44,
     "metadata": {},
     "output_type": "execute_result"
    }
   ],
   "source": [
    "sample_mean-t_975*se"
   ]
  },
  {
   "cell_type": "code",
   "execution_count": 49,
   "id": "f4f9c658",
   "metadata": {},
   "outputs": [
    {
     "data": {
      "text/plain": [
       "(3.3847044193368427, 5.015295580663158)"
      ]
     },
     "execution_count": 49,
     "metadata": {},
     "output_type": "execute_result"
    }
   ],
   "source": [
    "stats.t.interval(alpha=0.95,df=8,loc=4.2,scale=se) #loc=표본평균, scale=표본표준편차"
   ]
  },
  {
   "cell_type": "markdown",
   "id": "c2f5bece",
   "metadata": {},
   "source": [
    "## 통계적 가설검정"
   ]
  },
  {
   "cell_type": "markdown",
   "id": "6f1a8e10",
   "metadata": {},
   "source": [
    "- 귀무가설: 한양대학생_평균키 = 성균관대학생_평균키\n",
    "- 대립가설: 한양대학생_평균키 != 성균관대학생_평균키\n",
    "\n",
    "-> 평균키가 다르면, 귀무가설을 기각함. ?? 근거=> 통계적 검정"
   ]
  },
  {
   "cell_type": "code",
   "execution_count": 54,
   "id": "4b5f6727",
   "metadata": {},
   "outputs": [],
   "source": [
    "# 결론 100% 확신은 없음 \n",
    "# -> ??%의 신뢰수준\n",
    "# 95% 신뢰수준 -> 5%의 유의수준 (alpha)"
   ]
  },
  {
   "cell_type": "markdown",
   "id": "5c064366",
   "metadata": {},
   "source": [
    "### 가설검정의 종류\n",
    "- 평균: 일표본검정, 이표본검정, 대응표본검정\n",
    "- 분산: 일표본, 이표본\n",
    "- contingency table(범주형 변수): 분할표 검정 (카이제곱검정)"
   ]
  },
  {
   "cell_type": "markdown",
   "id": "civil-burden",
   "metadata": {},
   "source": [
    "### Null Hypothesis Testing framework\n",
    "\n",
    "**1. Setting up two competing hypotheses** - Each hypothesis test includes two hypothesis about the population.  One is the null hypothesis, notated as Ho, which is a statement of a particular parameter value.  This hypothesis is assumed to be true until there is evidence to suggest otherwise.  The second hypothesis is called the alternative, or research, hypothesis, notated as Ha.  The alternative hypothesis is a statement of a range of alternative values in which the parameter may fall.  One must also check that any assumptions (conditions) needed to run the test have been satisfied e.g. normality of data, independence, and number of success and failure outcomes.\n",
    "\n",
    "**2. Set in advanced some level of significance, called alpha.**  This value is used as a probability cutoff for making decisions about the null hypothesis.  As we will learn later, this alpha value represents the probability we are willing to place on our test for making an incorrect decision in regards to rejecting the null hypothesis.  The most common alpha value is 0.05  or 5%. Other popular choices are 0.01 (1%) and  0.1 (10%).\n",
    "\n",
    "**3. Calculate a test statistic and the p-value (or find rejection region)** Gather sample data and calculate a test statistic where the sample statistic is compared to the parameter value.  The test statistic is calculated under the assumption the null hypothesis is true, and incorporates a measure of standard error and assumptions (conditions) related to the sampling distribution.  Such assumptions could be normality of data, independence, and number of success and failure outcomes. A p-value is found by using the test statistic to calculate the probability of the sample data producing such a test statistic or one more extreme.  The rejection region is found by using alpha to find a critical value; the rejection region is the area that is more extreme than the critical value.\n",
    "\n",
    "**4. Make a test decision about the null hypothesis -**  In this step we decide to either reject the null hypothesis or decide to fail to reject the null hypothesis.  Notice we do not make a decision where we will accept the null hypothesis. \n",
    "\n",
    "**5. State an overall conclusion - **Once we have found the p-value or rejection region, and made a statistical decision about the null hypothesis (i.e. we will reject the null or fail to reject the null).  Following this decision, we want to summarize our results into an overall conclusion for our test."
   ]
  },
  {
   "cell_type": "markdown",
   "id": "introductory-nation",
   "metadata": {},
   "source": [
    "<h2>Some Statistical test from <code>scipy.stats</code></h2>\n",
    "\n",
    "* kurtosistest(a[, axis, nan_policy])\tTests whether a dataset has normal kurtosis\n",
    "* normaltest(a[, axis, nan_policy])\tTests whether a sample differs from a normal distribution.\n",
    "* skewtest(a[, axis, nan_policy])\tTests whether the skew is different from the normal distribution.\n",
    "* pearsonr(x, y)\tCalculates a Pearson correlation coefficient and the p-value for testing non-correlation.\n",
    "* ttest_1samp(a, popmean[, axis, nan_policy])\tCalculates the T-test for the mean of ONE group of scores.\n",
    "* ttest_1samp(a, popmean[, axis, nan_policy])\tCalculates the T-test for the mean of ONE group of scores.\n",
    "* ttest_ind(a, b[, axis, equal_var, nan_policy])\tCalculates the T-test for the means of two independent samples of scores.\n",
    "* ttest_ind_from_stats(mean1, std1, nobs1, ...)\tT-test for means of two independent samples from descriptive statistics.\n",
    "* ttest_rel(a, b[, axis, nan_policy])\tCalculates the T-test on TWO RELATED samples of scores, a and b.\n",
    "* kstest(rvs, cdf[, args, N, alternative, mode])\tPerform the Kolmogorov-Smirnov test for goodness of fit.\n",
    "* chisquare(f_obs[, f_exp, ddof, axis])\tCalculates a one-way chi square test.\n",
    "* ansari(x, y)\tPerform the Ansari-Bradley test for equal scale parameters\n",
    "* bartlett(*args)\tPerform Bartlett’s test for equal variances\n",
    "* levene(*args, **kwds)\tPerform Levene test for equal variances.\n",
    "* shapiro(x[, a, reta])\tPerform the Shapiro-Wilk test for normality.\n",
    "* anderson(x[, dist])\tAnderson-Darling test for data coming from a particular distribution\n",
    "* anderson_ksamp(samples[, midrank])\tThe Anderson-Darling test for k-samples."
   ]
  },
  {
   "cell_type": "code",
   "execution_count": 1,
   "id": "extended-canadian",
   "metadata": {},
   "outputs": [],
   "source": [
    "import pandas as pd \n",
    "student = pd.read_csv(\"student.csv\", sep=\";\")"
   ]
  },
  {
   "cell_type": "code",
   "execution_count": 2,
   "id": "informative-joining",
   "metadata": {},
   "outputs": [
    {
     "name": "stdout",
     "output_type": "stream",
     "text": [
      "<class 'pandas.core.frame.DataFrame'>\n",
      "RangeIndex: 649 entries, 0 to 648\n",
      "Data columns (total 33 columns):\n",
      " #   Column      Non-Null Count  Dtype \n",
      "---  ------      --------------  ----- \n",
      " 0   school      649 non-null    object\n",
      " 1   sex         649 non-null    object\n",
      " 2   age         649 non-null    int64 \n",
      " 3   address     649 non-null    object\n",
      " 4   famsize     649 non-null    object\n",
      " 5   Pstatus     649 non-null    object\n",
      " 6   Medu        649 non-null    int64 \n",
      " 7   Fedu        649 non-null    int64 \n",
      " 8   Mjob        649 non-null    object\n",
      " 9   Fjob        649 non-null    object\n",
      " 10  reason      649 non-null    object\n",
      " 11  guardian    649 non-null    object\n",
      " 12  traveltime  649 non-null    int64 \n",
      " 13  studytime   649 non-null    int64 \n",
      " 14  failures    649 non-null    int64 \n",
      " 15  schoolsup   649 non-null    object\n",
      " 16  famsup      649 non-null    object\n",
      " 17  paid        649 non-null    object\n",
      " 18  activities  649 non-null    object\n",
      " 19  nursery     649 non-null    object\n",
      " 20  higher      649 non-null    object\n",
      " 21  internet    649 non-null    object\n",
      " 22  romantic    649 non-null    object\n",
      " 23  famrel      649 non-null    int64 \n",
      " 24  freetime    649 non-null    int64 \n",
      " 25  goout       649 non-null    int64 \n",
      " 26  Dalc        649 non-null    int64 \n",
      " 27  Walc        649 non-null    int64 \n",
      " 28  health      649 non-null    int64 \n",
      " 29  absences    649 non-null    int64 \n",
      " 30  G1          649 non-null    int64 \n",
      " 31  G2          649 non-null    int64 \n",
      " 32  G3          649 non-null    int64 \n",
      "dtypes: int64(16), object(17)\n",
      "memory usage: 167.4+ KB\n"
     ]
    }
   ],
   "source": [
    "student.info()"
   ]
  },
  {
   "cell_type": "markdown",
   "id": "healthy-inquiry",
   "metadata": {},
   "source": [
    "In this demostration we are interested in 3 variables:\n",
    "\n",
    "1. Alcohol consumption level (we will create it and call it `acl`)\n",
    "2. Final grade for the course subject (`G3`)\n",
    "3. Gender of the student"
   ]
  },
  {
   "cell_type": "code",
   "execution_count": 3,
   "id": "european-jefferson",
   "metadata": {},
   "outputs": [],
   "source": [
    "student['alcohol_index'] = (5*student['Dalc'] + 2*student['Walc'])/7 # Dalc , Walc 가중 평균"
   ]
  },
  {
   "cell_type": "code",
   "execution_count": 4,
   "id": "wrong-modeling",
   "metadata": {},
   "outputs": [
    {
     "data": {
      "text/plain": [
       "count    649.000000\n",
       "mean       1.724631\n",
       "std        0.932727\n",
       "min        1.000000\n",
       "25%        1.000000\n",
       "50%        1.285714\n",
       "75%        2.142857\n",
       "max        5.000000\n",
       "Name: alcohol_index, dtype: float64"
      ]
     },
     "execution_count": 4,
     "metadata": {},
     "output_type": "execute_result"
    }
   ],
   "source": [
    "student.alcohol_index.describe()"
   ]
  },
  {
   "cell_type": "code",
   "execution_count": 5,
   "id": "competent-transformation",
   "metadata": {},
   "outputs": [],
   "source": [
    "# Alcohol consumption level\n",
    "student['acl'] = student['alcohol_index'] <= 2\n",
    "student['acl'] = student['acl'].map({True: 'Low', False: 'High'})"
   ]
  },
  {
   "cell_type": "markdown",
   "id": "sharp-marking",
   "metadata": {},
   "source": [
    "In this demostration we are interested in 3 variables:\n",
    "\n",
    "1. Alcohol consumption level (we will create it and call it `acl`)\n",
    "2. Final grade for the course subject (`G3`)\n",
    "3. Gender of the student\n",
    "\n"
   ]
  },
  {
   "cell_type": "code",
   "execution_count": 6,
   "id": "sunset-tissue",
   "metadata": {},
   "outputs": [],
   "source": [
    "student.rename(columns={'sex':'gender'}, inplace=True)"
   ]
  },
  {
   "cell_type": "code",
   "execution_count": 7,
   "id": "tamil-latvia",
   "metadata": {},
   "outputs": [
    {
     "data": {
      "text/html": [
       "<div>\n",
       "<style scoped>\n",
       "    .dataframe tbody tr th:only-of-type {\n",
       "        vertical-align: middle;\n",
       "    }\n",
       "\n",
       "    .dataframe tbody tr th {\n",
       "        vertical-align: top;\n",
       "    }\n",
       "\n",
       "    .dataframe thead th {\n",
       "        text-align: right;\n",
       "    }\n",
       "</style>\n",
       "<table border=\"1\" class=\"dataframe\">\n",
       "  <thead>\n",
       "    <tr style=\"text-align: right;\">\n",
       "      <th></th>\n",
       "      <th>school</th>\n",
       "      <th>gender</th>\n",
       "      <th>age</th>\n",
       "      <th>address</th>\n",
       "      <th>famsize</th>\n",
       "      <th>Pstatus</th>\n",
       "      <th>Medu</th>\n",
       "      <th>Fedu</th>\n",
       "      <th>Mjob</th>\n",
       "      <th>Fjob</th>\n",
       "      <th>...</th>\n",
       "      <th>goout</th>\n",
       "      <th>Dalc</th>\n",
       "      <th>Walc</th>\n",
       "      <th>health</th>\n",
       "      <th>absences</th>\n",
       "      <th>G1</th>\n",
       "      <th>G2</th>\n",
       "      <th>G3</th>\n",
       "      <th>alcohol_index</th>\n",
       "      <th>acl</th>\n",
       "    </tr>\n",
       "  </thead>\n",
       "  <tbody>\n",
       "    <tr>\n",
       "      <th>0</th>\n",
       "      <td>GP</td>\n",
       "      <td>F</td>\n",
       "      <td>18</td>\n",
       "      <td>U</td>\n",
       "      <td>GT3</td>\n",
       "      <td>A</td>\n",
       "      <td>4</td>\n",
       "      <td>4</td>\n",
       "      <td>at_home</td>\n",
       "      <td>teacher</td>\n",
       "      <td>...</td>\n",
       "      <td>4</td>\n",
       "      <td>1</td>\n",
       "      <td>1</td>\n",
       "      <td>3</td>\n",
       "      <td>4</td>\n",
       "      <td>0</td>\n",
       "      <td>11</td>\n",
       "      <td>11</td>\n",
       "      <td>1.000000</td>\n",
       "      <td>Low</td>\n",
       "    </tr>\n",
       "    <tr>\n",
       "      <th>1</th>\n",
       "      <td>GP</td>\n",
       "      <td>F</td>\n",
       "      <td>17</td>\n",
       "      <td>U</td>\n",
       "      <td>GT3</td>\n",
       "      <td>T</td>\n",
       "      <td>1</td>\n",
       "      <td>1</td>\n",
       "      <td>at_home</td>\n",
       "      <td>other</td>\n",
       "      <td>...</td>\n",
       "      <td>3</td>\n",
       "      <td>1</td>\n",
       "      <td>1</td>\n",
       "      <td>3</td>\n",
       "      <td>2</td>\n",
       "      <td>9</td>\n",
       "      <td>11</td>\n",
       "      <td>11</td>\n",
       "      <td>1.000000</td>\n",
       "      <td>Low</td>\n",
       "    </tr>\n",
       "    <tr>\n",
       "      <th>2</th>\n",
       "      <td>GP</td>\n",
       "      <td>F</td>\n",
       "      <td>15</td>\n",
       "      <td>U</td>\n",
       "      <td>LE3</td>\n",
       "      <td>T</td>\n",
       "      <td>1</td>\n",
       "      <td>1</td>\n",
       "      <td>at_home</td>\n",
       "      <td>other</td>\n",
       "      <td>...</td>\n",
       "      <td>2</td>\n",
       "      <td>2</td>\n",
       "      <td>3</td>\n",
       "      <td>3</td>\n",
       "      <td>6</td>\n",
       "      <td>12</td>\n",
       "      <td>13</td>\n",
       "      <td>12</td>\n",
       "      <td>2.285714</td>\n",
       "      <td>High</td>\n",
       "    </tr>\n",
       "    <tr>\n",
       "      <th>3</th>\n",
       "      <td>GP</td>\n",
       "      <td>F</td>\n",
       "      <td>15</td>\n",
       "      <td>U</td>\n",
       "      <td>GT3</td>\n",
       "      <td>T</td>\n",
       "      <td>4</td>\n",
       "      <td>2</td>\n",
       "      <td>health</td>\n",
       "      <td>services</td>\n",
       "      <td>...</td>\n",
       "      <td>2</td>\n",
       "      <td>1</td>\n",
       "      <td>1</td>\n",
       "      <td>5</td>\n",
       "      <td>0</td>\n",
       "      <td>14</td>\n",
       "      <td>14</td>\n",
       "      <td>14</td>\n",
       "      <td>1.000000</td>\n",
       "      <td>Low</td>\n",
       "    </tr>\n",
       "    <tr>\n",
       "      <th>4</th>\n",
       "      <td>GP</td>\n",
       "      <td>F</td>\n",
       "      <td>16</td>\n",
       "      <td>U</td>\n",
       "      <td>GT3</td>\n",
       "      <td>T</td>\n",
       "      <td>3</td>\n",
       "      <td>3</td>\n",
       "      <td>other</td>\n",
       "      <td>other</td>\n",
       "      <td>...</td>\n",
       "      <td>2</td>\n",
       "      <td>1</td>\n",
       "      <td>2</td>\n",
       "      <td>5</td>\n",
       "      <td>0</td>\n",
       "      <td>11</td>\n",
       "      <td>13</td>\n",
       "      <td>13</td>\n",
       "      <td>1.285714</td>\n",
       "      <td>Low</td>\n",
       "    </tr>\n",
       "  </tbody>\n",
       "</table>\n",
       "<p>5 rows × 35 columns</p>\n",
       "</div>"
      ],
      "text/plain": [
       "  school gender  age address famsize Pstatus  Medu  Fedu     Mjob      Fjob  \\\n",
       "0     GP      F   18       U     GT3       A     4     4  at_home   teacher   \n",
       "1     GP      F   17       U     GT3       T     1     1  at_home     other   \n",
       "2     GP      F   15       U     LE3       T     1     1  at_home     other   \n",
       "3     GP      F   15       U     GT3       T     4     2   health  services   \n",
       "4     GP      F   16       U     GT3       T     3     3    other     other   \n",
       "\n",
       "   ... goout Dalc  Walc  health  absences  G1  G2  G3 alcohol_index   acl  \n",
       "0  ...     4    1     1       3         4   0  11  11      1.000000   Low  \n",
       "1  ...     3    1     1       3         2   9  11  11      1.000000   Low  \n",
       "2  ...     2    2     3       3         6  12  13  12      2.285714  High  \n",
       "3  ...     2    1     1       5         0  14  14  14      1.000000   Low  \n",
       "4  ...     2    1     2       5         0  11  13  13      1.285714   Low  \n",
       "\n",
       "[5 rows x 35 columns]"
      ]
     },
     "execution_count": 7,
     "metadata": {},
     "output_type": "execute_result"
    }
   ],
   "source": [
    "student.head()"
   ]
  },
  {
   "cell_type": "markdown",
   "id": "driving-stanley",
   "metadata": {},
   "source": [
    "## Are the population variances equal in the two groups of students (Low vs. High alcohol consumption)?"
   ]
  },
  {
   "cell_type": "markdown",
   "id": "published-identity",
   "metadata": {},
   "source": [
    "Let's perform the Bartetts's test whose Null Hypothesis is that the variances are equal. We will use a significance level of 5.0%"
   ]
  },
  {
   "cell_type": "code",
   "execution_count": 8,
   "id": "special-palmer",
   "metadata": {},
   "outputs": [
    {
     "data": {
      "text/plain": [
       "acl\n",
       "High    11.151406\n",
       "Low      9.765917\n",
       "Name: G3, dtype: float64"
      ]
     },
     "execution_count": 8,
     "metadata": {},
     "output_type": "execute_result"
    }
   ],
   "source": [
    "student.groupby('acl')['G3'].var()"
   ]
  },
  {
   "cell_type": "code",
   "execution_count": 9,
   "id": "furnished-module",
   "metadata": {},
   "outputs": [],
   "source": [
    "grades_low_acl = student['G3'].loc[student['acl']=='Low']\n",
    "grades_high_acl = student['G3'].loc[student['acl']=='High']"
   ]
  },
  {
   "cell_type": "code",
   "execution_count": 10,
   "id": "enclosed-conditions",
   "metadata": {},
   "outputs": [
    {
     "data": {
      "text/plain": [
       "2      12\n",
       "18      7\n",
       "23     10\n",
       "27     11\n",
       "29     12\n",
       "       ..\n",
       "633    14\n",
       "635     9\n",
       "640     0\n",
       "647    10\n",
       "648    11\n",
       "Name: G3, Length: 166, dtype: int64"
      ]
     },
     "execution_count": 10,
     "metadata": {},
     "output_type": "execute_result"
    }
   ],
   "source": [
    "grades_high_acl"
   ]
  },
  {
   "cell_type": "code",
   "execution_count": 11,
   "id": "departmental-purpose",
   "metadata": {},
   "outputs": [
    {
     "data": {
      "text/plain": [
       "BartlettResult(statistic=1.1025085913378183, pvalue=0.29371623181175127)"
      ]
     },
     "execution_count": 11,
     "metadata": {},
     "output_type": "execute_result"
    }
   ],
   "source": [
    "from scipy import stats\n",
    "stats.bartlett(grades_low_acl, grades_high_acl)\n",
    "# Do not reject H0: 분산이 같다고 유의수준 alpha에서 말할 수 있다. "
   ]
  },
  {
   "cell_type": "markdown",
   "id": "wrong-privacy",
   "metadata": {},
   "source": [
    "According to the test we **cannot** reject the Null hypothesis of equal variances, so we will use assume that the two groups are samples from a population with the same variances. This information will be useful in our next test."
   ]
  },
  {
   "cell_type": "markdown",
   "id": "generic-absence",
   "metadata": {},
   "source": [
    "## Does alcohol consumption affect academic performance?"
   ]
  },
  {
   "cell_type": "markdown",
   "id": "color-edmonton",
   "metadata": {},
   "source": [
    "The visualizations sugest there is a difference between the means of the final grade of the two groups. Now we will perform a formal statistical test to confirm the hypothesis that students with High alcohol consumption level perform worse than the students with Low alcohol consumption level.\n",
    "\n",
    "> **Null Hypothesis: for both groups (High and Low ACL) the population means of the final grade are equal.**\n",
    "\n",
    ">  **Alternative Hypothesis: The population means of the final grades are different.**\n",
    "\n",
    "A common test to apply in for these cases is the two-sample t-test, which is used to determine if two population means are equal. \n",
    "\n",
    "All statistical tests have assumptions that must be checked for their conclusions to be valid, for these test the assumptions are:\n",
    "\n",
    "1. **Independent samples**: we will assume that the method for collecting the data assured that the answers given by the students are independent.\n",
    "2. **Large enough sample size or observations come from a normally-distributed population**: this assumption is required if we are working with small samples (less than 30), since in the smaller group we have 166 observations we can say that we have a \"large enough\" sample.\n",
    "3. **Variances are equal**\n",
    "\n",
    "In addition this test have two versions: one assuming equal variances and the other assumming unequal variances."
   ]
  },
  {
   "cell_type": "markdown",
   "id": "cultural-singapore",
   "metadata": {},
   "source": [
    "According to the test we can not reject the Null hypothesis of equal variances, so we will use assume that the two samples come from a population with the same population variances. Time to perform our t-test."
   ]
  },
  {
   "cell_type": "code",
   "execution_count": 12,
   "id": "metallic-outdoors",
   "metadata": {},
   "outputs": [
    {
     "name": "stdout",
     "output_type": "stream",
     "text": [
      "<class 'pandas.core.frame.DataFrame'>\n",
      "RangeIndex: 649 entries, 0 to 648\n",
      "Data columns (total 35 columns):\n",
      " #   Column         Non-Null Count  Dtype  \n",
      "---  ------         --------------  -----  \n",
      " 0   school         649 non-null    object \n",
      " 1   gender         649 non-null    object \n",
      " 2   age            649 non-null    int64  \n",
      " 3   address        649 non-null    object \n",
      " 4   famsize        649 non-null    object \n",
      " 5   Pstatus        649 non-null    object \n",
      " 6   Medu           649 non-null    int64  \n",
      " 7   Fedu           649 non-null    int64  \n",
      " 8   Mjob           649 non-null    object \n",
      " 9   Fjob           649 non-null    object \n",
      " 10  reason         649 non-null    object \n",
      " 11  guardian       649 non-null    object \n",
      " 12  traveltime     649 non-null    int64  \n",
      " 13  studytime      649 non-null    int64  \n",
      " 14  failures       649 non-null    int64  \n",
      " 15  schoolsup      649 non-null    object \n",
      " 16  famsup         649 non-null    object \n",
      " 17  paid           649 non-null    object \n",
      " 18  activities     649 non-null    object \n",
      " 19  nursery        649 non-null    object \n",
      " 20  higher         649 non-null    object \n",
      " 21  internet       649 non-null    object \n",
      " 22  romantic       649 non-null    object \n",
      " 23  famrel         649 non-null    int64  \n",
      " 24  freetime       649 non-null    int64  \n",
      " 25  goout          649 non-null    int64  \n",
      " 26  Dalc           649 non-null    int64  \n",
      " 27  Walc           649 non-null    int64  \n",
      " 28  health         649 non-null    int64  \n",
      " 29  absences       649 non-null    int64  \n",
      " 30  G1             649 non-null    int64  \n",
      " 31  G2             649 non-null    int64  \n",
      " 32  G3             649 non-null    int64  \n",
      " 33  alcohol_index  649 non-null    float64\n",
      " 34  acl            649 non-null    object \n",
      "dtypes: float64(1), int64(16), object(18)\n",
      "memory usage: 177.6+ KB\n"
     ]
    }
   ],
   "source": [
    "student.info()"
   ]
  },
  {
   "cell_type": "code",
   "execution_count": 13,
   "id": "atmospheric-victim",
   "metadata": {},
   "outputs": [
    {
     "data": {
      "text/plain": [
       "Ttest_indResult(statistic=4.621320706949354, pvalue=4.603608830369269e-06)"
      ]
     },
     "execution_count": 13,
     "metadata": {},
     "output_type": "execute_result"
    }
   ],
   "source": [
    "stats.ttest_ind(grades_low_acl, grades_high_acl, equal_var=True) # 범주형 변수와 수치형 변수간의 관계를 파악\n",
    "# reject H0--> 알콜 소비량이 성적에 영향을 준다.\n",
    "# (x_1_bar-x_2_bar)/(s_p(1/sqrt(n_1)+1/sqrt(n_2))"
   ]
  },
  {
   "cell_type": "markdown",
   "id": "knowing-future",
   "metadata": {},
   "source": [
    "Since we got such a low p-value we can reject the Null hypothesis of equal means for the two groups at a level of significance of 5%."
   ]
  },
  {
   "cell_type": "markdown",
   "id": "looking-peninsula",
   "metadata": {},
   "source": [
    "> **Conclusion: there is a statistical significant difference between the grades in the two analyzed groups, since the mean for the group with high alcohol consumption is less than the mean of the other group, the results suggest that alcohol consumption has a negative impact on students' academic performance.**"
   ]
  },
  {
   "cell_type": "code",
   "execution_count": 16,
   "id": "honest-timothy",
   "metadata": {},
   "outputs": [],
   "source": [
    "# acl vs. G3 / gender vs. G3\n",
    "import matplotlib.pyplot as plt"
   ]
  },
  {
   "cell_type": "code",
   "execution_count": 22,
   "id": "169427d7",
   "metadata": {},
   "outputs": [
    {
     "data": {
      "text/plain": [
       "<AxesSubplot:title={'center':'G3'}, xlabel='gender'>"
      ]
     },
     "execution_count": 22,
     "metadata": {},
     "output_type": "execute_result"
    },
    {
     "data": {
      "image/png": "[encoded data removed]",
      "text/plain": [
       "<Figure size 1008x288 with 2 Axes>"
      ]
     },
     "metadata": {
      "needs_background": "light"
     },
     "output_type": "display_data"
    }
   ],
   "source": [
    "fig, axes = plt.subplots(1,2, figsize=(14,4))\n",
    "student.boxplot(column='G3', by='acl', ax=axes[0])\n",
    "student.boxplot(column='G3', by='gender', ax=axes[1])"
   ]
  },
  {
   "cell_type": "markdown",
   "id": "998e2bed",
   "metadata": {},
   "source": [
    "## Do male teenager drink more than female teenager?"
   ]
  },
  {
   "cell_type": "code",
   "execution_count": 24,
   "id": "5eef6796",
   "metadata": {
    "scrolled": true
   },
   "outputs": [],
   "source": [
    "gender_acl_table=pd.crosstab(student.acl,student.gender)"
   ]
  },
  {
   "cell_type": "code",
   "execution_count": 26,
   "id": "775256d5",
   "metadata": {},
   "outputs": [],
   "source": [
    "chi_stat, p_value, dof, expected=stats.chi2_contingency(gender_acl_table)"
   ]
  },
  {
   "cell_type": "code",
   "execution_count": 28,
   "id": "5d450bbe",
   "metadata": {},
   "outputs": [
    {
     "data": {
      "text/html": [
       "<div>\n",
       "<style scoped>\n",
       "    .dataframe tbody tr th:only-of-type {\n",
       "        vertical-align: middle;\n",
       "    }\n",
       "\n",
       "    .dataframe tbody tr th {\n",
       "        vertical-align: top;\n",
       "    }\n",
       "\n",
       "    .dataframe thead th {\n",
       "        text-align: right;\n",
       "    }\n",
       "</style>\n",
       "<table border=\"1\" class=\"dataframe\">\n",
       "  <thead>\n",
       "    <tr style=\"text-align: right;\">\n",
       "      <th>gender</th>\n",
       "      <th>F</th>\n",
       "      <th>M</th>\n",
       "    </tr>\n",
       "    <tr>\n",
       "      <th>acl</th>\n",
       "      <th></th>\n",
       "      <th></th>\n",
       "    </tr>\n",
       "  </thead>\n",
       "  <tbody>\n",
       "    <tr>\n",
       "      <th>High</th>\n",
       "      <td>62</td>\n",
       "      <td>104</td>\n",
       "    </tr>\n",
       "    <tr>\n",
       "      <th>Low</th>\n",
       "      <td>321</td>\n",
       "      <td>162</td>\n",
       "    </tr>\n",
       "  </tbody>\n",
       "</table>\n",
       "</div>"
      ],
      "text/plain": [
       "gender    F    M\n",
       "acl             \n",
       "High     62  104\n",
       "Low     321  162"
      ]
     },
     "execution_count": 28,
     "metadata": {},
     "output_type": "execute_result"
    }
   ],
   "source": [
    "gender_acl_table"
   ]
  },
  {
   "cell_type": "code",
   "execution_count": 27,
   "id": "81dd8cce",
   "metadata": {},
   "outputs": [
    {
     "data": {
      "text/plain": [
       "(42.08718662606401,\n",
       " 8.72933011769437e-11,\n",
       " 1,\n",
       " array([[ 97.96302003,  68.03697997],\n",
       "        [285.03697997, 197.96302003]]))"
      ]
     },
     "execution_count": 27,
     "metadata": {},
     "output_type": "execute_result"
    }
   ],
   "source": [
    "stats.chi2_contingency(gender_acl_table)"
   ]
  },
  {
   "cell_type": "code",
   "execution_count": 29,
   "id": "33250fb8",
   "metadata": {},
   "outputs": [
    {
     "data": {
      "text/plain": [
       "<AxesSubplot:xlabel='acl'>"
      ]
     },
     "execution_count": 29,
     "metadata": {},
     "output_type": "execute_result"
    },
    {
     "data": {
      "image/png": "[encoded data removed]",
      "text/plain": [
       "<Figure size 432x288 with 1 Axes>"
      ]
     },
     "metadata": {
      "needs_background": "light"
     },
     "output_type": "display_data"
    }
   ],
   "source": [
    "gender_acl_table.plot(kind='bar')"
   ]
  },
  {
   "cell_type": "code",
   "execution_count": null,
   "id": "bcf1ce18",
   "metadata": {},
   "outputs": [],
   "source": []
  }
 ],
 "metadata": {
  "kernelspec": {
   "display_name": "Python 3",
   "language": "python",
   "name": "python3"
  },
  "language_info": {
   "codemirror_mode": {
    "name": "ipython",
    "version": 3
   },
   "file_extension": ".py",
   "mimetype": "text/x-python",
   "name": "python",
   "nbconvert_exporter": "python",
   "pygments_lexer": "ipython3",
   "version": "3.8.8"
  }
 },
 "nbformat": 4,
 "nbformat_minor": 5
}
