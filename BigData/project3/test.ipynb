{
 "cells": [
  {
   "cell_type": "code",
   "execution_count": 2,
   "metadata": {},
   "outputs": [],
   "source": [
    "import dash\n",
    "from dash import dcc,html\n",
    "from dash.dependencies import Input, Output\n",
    "import plotly.express as px\n",
    "import pandas as pd\n",
    "import jupyterlab_dash\n",
    "\n",
    "viewer = jupyterlab_dash.AppViewer()\n",
    "df = px.data.gapminder()\n",
    "df1 = pd.read_csv('data/sample.csv')\n",
    "\n",
    "animations = {\n",
    "    'Scatter': px.scatter(\n",
    "        df, x=\"gdpPercap\", y=\"lifeExp\", animation_frame=\"year\", \n",
    "        animation_group=\"country\", size=\"pop\", color=\"continent\", \n",
    "        hover_name=\"country\", log_x=True, size_max=55, \n",
    "        range_x=[100,100000], range_y=[25,90]),\n",
    "    'Test' : px.scatter(df1, x=\"avg_salary\", y=\"employee_num\", animation_frame=\"time\", \n",
    "        animation_group=\"name\", size=\"price\", color=\"type\", \n",
    "        hover_name=\"name\", log_x=True, size_max=55,\n",
    "        range_x=[20000000,50000000], range_y=[-100,1000]),\n",
    "    # 'Bar': px.bar(\n",
    "    #     df, x=\"continent\", y=\"pop\", color=\"continent\", \n",
    "    #     animation_frame=\"year\", animation_group=\"country\", \n",
    "    #     range_y=[0,4000000000]),\n",
    "}\n",
    "\n",
    "app = dash.Dash(__name__)\n",
    "\n",
    "app.layout = html.Div([\n",
    "    dcc.RadioItems(\n",
    "        id='selection',\n",
    "        options=[{'label': x, 'value': x} for x in animations],\n",
    "        value='Scatter'\n",
    "    ),\n",
    "    dcc.Graph(id=\"graph\"),\n",
    "])\n",
    "\n",
    "@app.callback(\n",
    "    Output(\"graph\", \"figure\"), \n",
    "    [Input(\"selection\", \"value\")])\n",
    "def display_animated_graph(s):\n",
    "    return animations[s]\n",
    "\n",
    "app."
   ]
  },
  {
   "cell_type": "code",
   "execution_count": 3,
   "metadata": {},
   "outputs": [],
   "source": [
    "viewer.show(app)"
   ]
  },
  {
   "cell_type": "code",
   "execution_count": 4,
   "metadata": {},
   "outputs": [
    {
     "name": "stderr",
     "output_type": "stream",
     "text": [
      "Exception in thread Thread-132:\n",
      "Traceback (most recent call last):\n",
      "  File \"/Applications/Xcode.app/Contents/Developer/Library/Frameworks/Python3.framework/Versions/3.8/lib/python3.8/threading.py\", line 932, in _bootstrap_inner\n",
      "    self.run()\n",
      "  File \"/Applications/Xcode.app/Contents/Developer/Library/Frameworks/Python3.framework/Versions/3.8/lib/python3.8/threading.py\", line 1254, in run\n",
      "    self.function(*self.args, **self.kwargs)\n",
      "  File \"/Users/gohdong/Library/Python/3.8/lib/python/site-packages/jupyterlab_dash/__init__.py\", line 63, in _perform_show\n",
      "    raise IOError(\"\"\"\n",
      "OSError: \n",
      "Unable to communicate with the jupyterlab-dash JupyterLab extension.\n",
      "Is this Python kernel running inside JupyterLab with the jupyterlab-dash\n",
      "extension installed?\n",
      "\n",
      "You can install the extension with:\n",
      "\n",
      "$ jupyter labextension install jupyterlab-dash\n",
      "\n",
      "Exception in thread Thread-156:\n",
      "Traceback (most recent call last):\n",
      "  File \"/Applications/Xcode.app/Contents/Developer/Library/Frameworks/Python3.framework/Versions/3.8/lib/python3.8/threading.py\", line 932, in _bootstrap_inner\n",
      "    self.run()\n",
      "  File \"/Applications/Xcode.app/Contents/Developer/Library/Frameworks/Python3.framework/Versions/3.8/lib/python3.8/threading.py\", line 1254, in run\n",
      "    self.function(*self.args, **self.kwargs)\n",
      "  File \"/Users/gohdong/Library/Python/3.8/lib/python/site-packages/jupyterlab_dash/__init__.py\", line 63, in _perform_show\n",
      "    raise IOError(\"\"\"\n",
      "OSError: \n",
      "Unable to communicate with the jupyterlab-dash JupyterLab extension.\n",
      "Is this Python kernel running inside JupyterLab with the jupyterlab-dash\n",
      "extension installed?\n",
      "\n",
      "You can install the extension with:\n",
      "\n",
      "$ jupyter labextension install jupyterlab-dash\n",
      "\n"
     ]
    }
   ],
   "source": [
    "viewer.show(app=app)"
   ]
  },
  {
   "cell_type": "code",
   "execution_count": null,
   "metadata": {},
   "outputs": [],
   "source": []
  },
  {
   "cell_type": "code",
   "execution_count": null,
   "metadata": {},
   "outputs": [],
   "source": []
  }
 ],
 "metadata": {
  "interpreter": {
   "hash": "31f2aee4e71d21fbe5cf8b01ff0e069b9275f58929596ceb00d14d90e3e16cd6"
  },
  "kernelspec": {
   "display_name": "Python 3.8.9 64-bit",
   "language": "python",
   "name": "python3"
  },
  "language_info": {
   "codemirror_mode": {
    "name": "ipython",
    "version": 3
   },
   "file_extension": ".py",
   "mimetype": "text/x-python",
   "name": "python",
   "nbconvert_exporter": "python",
   "pygments_lexer": "ipython3",
   "version": "3.8.9"
  },
  "orig_nbformat": 4
 },
 "nbformat": 4,
 "nbformat_minor": 2
}
