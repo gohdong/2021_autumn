{
 "cells": [
  {
   "cell_type": "code",
   "execution_count": 1,
   "source": [
    "import findspark\n",
    "findspark.init()\n",
    "from pyspark import SparkContext\n",
    "\n",
    "sc = SparkContext(\"local\",\"quiz 3\")"
   ],
   "outputs": [],
   "metadata": {}
  },
  {
   "cell_type": "code",
   "execution_count": 16,
   "source": [
    "user_data = sc.textFile('u.data').map(lambda x:tuple(x.split('\\t')))\n",
    "movie_data = sc.textFile('u.item').map(lambda x:tuple(x.split('|')[:2]))"
   ],
   "outputs": [],
   "metadata": {}
  },
  {
   "cell_type": "code",
   "execution_count": 45,
   "source": [
    "five_rating_movies = user_data.filter(lambda x : x[2]=='5').map(lambda x:x[1]).distinct().collect()"
   ],
   "outputs": [],
   "metadata": {}
  },
  {
   "cell_type": "code",
   "execution_count": 44,
   "source": [
    "# 문제1.\n",
    "movie_data.filter(lambda x: x[0] in five_rating_movies and x[1][0]=='T').distinct().count()"
   ],
   "outputs": [
    {
     "output_type": "execute_result",
     "data": {
      "text/plain": [
       "75"
      ]
     },
     "metadata": {},
     "execution_count": 44
    }
   ],
   "metadata": {}
  },
  {
   "cell_type": "code",
   "execution_count": 92,
   "source": [
    "# 문제2.\n",
    "five = user_data.filter(lambda x : x[2]=='5').map(lambda x:(x[1],1))\n",
    "one = user_data.filter(lambda x : x[2]=='1').map(lambda x:(x[1],1))\n",
    "one_and_five = one.intersection(five).map(lambda x : x[0]).collect()\n",
    "movie_data.sortBy(lambda x:len(x[1]),False).filter(lambda x : x[0] in one_and_five).map(lambda x:x[1]).first()"
   ],
   "outputs": [
    {
     "output_type": "execute_result",
     "data": {
      "text/plain": [
       "'Old Lady Who Walked in the Sea, The (Vieille qui marchait dans la mer, La) (1991)'"
      ]
     },
     "metadata": {},
     "execution_count": 92
    }
   ],
   "metadata": {}
  },
  {
   "cell_type": "markdown",
   "source": [],
   "metadata": {}
  }
 ],
 "metadata": {
  "orig_nbformat": 4,
  "language_info": {
   "name": "python",
   "version": "3.8.8",
   "mimetype": "text/x-python",
   "codemirror_mode": {
    "name": "ipython",
    "version": 3
   },
   "pygments_lexer": "ipython3",
   "nbconvert_exporter": "python",
   "file_extension": ".py"
  },
  "kernelspec": {
   "name": "python3",
   "display_name": "Python 3.8.8 64-bit ('base': conda)"
  },
  "interpreter": {
   "hash": "958c9aa0b9ddc3af5b5985234d16f5bf853496039bc01ce52c1e3dbfccde22ac"
  }
 },
 "nbformat": 4,
 "nbformat_minor": 2
}