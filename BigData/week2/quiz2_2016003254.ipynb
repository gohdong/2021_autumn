{
 "cells": [
  {
   "cell_type": "code",
   "execution_count": 2,
   "source": [
    "import findspark\n",
    "findspark.init()\n",
    "from pyspark import SparkContext\n",
    "\n",
    "sc = SparkContext(\"local\",\"quiz 2\")"
   ],
   "outputs": [],
   "metadata": {}
  },
  {
   "cell_type": "code",
   "execution_count": 3,
   "source": [
    "input_rdd = sc.textFile(\"input.txt\")\n",
    "flatten_rdd = input_rdd.flatMap(lambda l : l.split()).filter(lambda x:len(x)>=2)"
   ],
   "outputs": [],
   "metadata": {}
  },
  {
   "cell_type": "code",
   "execution_count": 4,
   "source": [
    "count = flatten_rdd.map(lambda x:(x[:2].lower(),1)).reduceByKey(lambda x,y : x+y)"
   ],
   "outputs": [],
   "metadata": {}
  },
  {
   "cell_type": "code",
   "execution_count": 6,
   "source": [
    "temp = count.filter(lambda x : x[1]==32).map(lambda x: x[0]).collect()"
   ],
   "outputs": [],
   "metadata": {}
  },
  {
   "cell_type": "code",
   "execution_count": 7,
   "source": [
    "flatten_rdd.filter(lambda x: x[:2].lower() in temp).distinct().count()"
   ],
   "outputs": [
    {
     "output_type": "execute_result",
     "data": {
      "text/plain": [
       "35"
      ]
     },
     "metadata": {},
     "execution_count": 7
    }
   ],
   "metadata": {}
  }
 ],
 "metadata": {
  "kernelspec": {
   "name": "python3",
   "display_name": "Python 3.8.8 64-bit ('base': conda)"
  },
  "language_info": {
   "codemirror_mode": {
    "name": "ipython",
    "version": 3
   },
   "file_extension": ".py",
   "mimetype": "text/x-python",
   "name": "python",
   "nbconvert_exporter": "python",
   "pygments_lexer": "ipython3",
   "version": "3.8.8"
  },
  "interpreter": {
   "hash": "958c9aa0b9ddc3af5b5985234d16f5bf853496039bc01ce52c1e3dbfccde22ac"
  }
 },
 "nbformat": 4,
 "nbformat_minor": 5
}