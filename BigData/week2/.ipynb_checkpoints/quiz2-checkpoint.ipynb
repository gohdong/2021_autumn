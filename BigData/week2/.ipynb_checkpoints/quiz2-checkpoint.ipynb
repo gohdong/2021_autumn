{
 "cells": [
  {
   "cell_type": "code",
   "execution_count": 1,
   "id": "8e97e945-6ce6-4f8a-bc0b-24e0b720575d",
   "metadata": {},
   "outputs": [],
   "source": [
    "import findspark\n",
    "findspark.init()\n",
    "from pyspark import SparkContext\n",
    "\n",
    "sc = SparkContext(\"local\",\"quiz 2\")"
   ]
  },
  {
   "cell_type": "code",
   "execution_count": 2,
   "id": "3b3bb4fa-c2e8-4fbe-9b9b-db99acaed948",
   "metadata": {},
   "outputs": [],
   "source": [
    "input_rdd = sc.textFile(\"input.txt\")\n",
    "flatten_rdd = input_rdd.flatMap(lambda l : l.split()).filter(lambda x:len(x)>=2)"
   ]
  },
  {
   "cell_type": "code",
   "execution_count": 3,
   "id": "eb398a62-e5da-4462-bda3-c0474cdaad5a",
   "metadata": {},
   "outputs": [],
   "source": [
    "count = flatten_rdd.map(lambda x:(x[:2].lower(),1)).reduceByKey(lambda x,y : x+y)"
   ]
  },
  {
   "cell_type": "code",
   "execution_count": 4,
   "id": "caa1f485-45b4-4af1-83b2-c8203e96f209",
   "metadata": {},
   "outputs": [
    {
     "data": {
      "text/plain": [
       "[('st', 515), ('in', 1076), ('sc', 70), ('pa', 188), ('i.', 9)]"
      ]
     },
     "execution_count": 4,
     "metadata": {},
     "output_type": "execute_result"
    }
   ],
   "source": [
    "count.take(5)"
   ]
  },
  {
   "cell_type": "code",
   "execution_count": 13,
   "id": "12471df9-a406-4aea-9b59-e9a3aabb8b17",
   "metadata": {},
   "outputs": [],
   "source": [
    "temp = count.filter(lambda x : x[1]==32).map(lambda x: x[0]).collect()"
   ]
  },
  {
   "cell_type": "code",
   "execution_count": 26,
   "id": "7e2aaa69-469f-4582-85b5-7111ada92477",
   "metadata": {},
   "outputs": [
    {
     "data": {
      "text/plain": [
       "35"
      ]
     },
     "execution_count": 26,
     "metadata": {},
     "output_type": "execute_result"
    }
   ],
   "source": [
    "flatten_rdd.filter(lambda x: x[:2].lower() in temp).distinct().count()"
   ]
  },
  {
   "cell_type": "code",
   "execution_count": null,
   "id": "1c65cf51-91e7-4927-a40c-30f67b1ef197",
   "metadata": {},
   "outputs": [],
   "source": []
  }
 ],
 "metadata": {
  "kernelspec": {
   "display_name": "Python 3",
   "language": "python",
   "name": "python3"
  },
  "language_info": {
   "codemirror_mode": {
    "name": "ipython",
    "version": 3
   },
   "file_extension": ".py",
   "mimetype": "text/x-python",
   "name": "python",
   "nbconvert_exporter": "python",
   "pygments_lexer": "ipython3",
   "version": "3.8.8"
  }
 },
 "nbformat": 4,
 "nbformat_minor": 5
}
