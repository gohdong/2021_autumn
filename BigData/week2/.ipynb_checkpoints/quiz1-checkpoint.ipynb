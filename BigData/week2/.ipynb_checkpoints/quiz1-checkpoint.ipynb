{
 "cells": [
  {
   "cell_type": "code",
   "execution_count": 1,
   "id": "9a7efcca-f0ab-44a9-9552-1865899ec2ee",
   "metadata": {},
   "outputs": [],
   "source": [
    "import findspark\n",
    "findspark.init()\n",
    "from pyspark import SparkContext\n",
    "\n",
    "sc = SparkContext(\"local\",\"quiz 1\")\n"
   ]
  },
  {
   "cell_type": "code",
   "execution_count": 4,
   "id": "725dc29a-0722-4918-ab45-f7ab7e16bfd1",
   "metadata": {},
   "outputs": [],
   "source": [
    "input_rdd = sc.textFile(\"input.txt\")\n",
    "flatten_rdd = input_rdd.flatMap(lambda l : l.split()).filter(lambda x:len(x)>=2)"
   ]
  },
  {
   "cell_type": "code",
   "execution_count": 13,
   "id": "5ce44ceb-ce39-47ae-a2f9-7a72b976da74",
   "metadata": {},
   "outputs": [],
   "source": [
    "count = flatten_rdd.map(lambda x:(x[:2].lower(),1)).reduceByKey(lambda x,y : x+y)"
   ]
  },
  {
   "cell_type": "code",
   "execution_count": 14,
   "id": "cc393642-e4c1-4334-acf6-4cca316f9cad",
   "metadata": {},
   "outputs": [
    {
     "data": {
      "text/plain": [
       "[('st', 515), ('in', 1076), ('sc', 70), ('pa', 188), ('i.', 9)]"
      ]
     },
     "execution_count": 14,
     "metadata": {},
     "output_type": "execute_result"
    }
   ],
   "source": [
    "count.take(5)"
   ]
  },
  {
   "cell_type": "code",
   "execution_count": 19,
   "id": "8884aa70-44e5-4030-a0c3-0c7b85b1ab87",
   "metadata": {},
   "outputs": [],
   "source": [
    "result = count.filter(lambda x:x[1]<32).map(lambda x: x[1]).reduce(lambda x,y:x+y)"
   ]
  },
  {
   "cell_type": "code",
   "execution_count": 21,
   "id": "1991a07e-d202-40e6-92e9-a1ef3f719a5e",
   "metadata": {},
   "outputs": [
    {
     "name": "stdout",
     "output_type": "stream",
     "text": [
      "830\n"
     ]
    }
   ],
   "source": [
    "print(result)"
   ]
  },
  {
   "cell_type": "code",
   "execution_count": null,
   "id": "7fb53187-9c3f-4291-bbc3-b742d74f9866",
   "metadata": {},
   "outputs": [],
   "source": []
  }
 ],
 "metadata": {
  "kernelspec": {
   "display_name": "Python 3",
   "language": "python",
   "name": "python3"
  },
  "language_info": {
   "codemirror_mode": {
    "name": "ipython",
    "version": 3
   },
   "file_extension": ".py",
   "mimetype": "text/x-python",
   "name": "python",
   "nbconvert_exporter": "python",
   "pygments_lexer": "ipython3",
   "version": "3.8.8"
  }
 },
 "nbformat": 4,
 "nbformat_minor": 5
}
