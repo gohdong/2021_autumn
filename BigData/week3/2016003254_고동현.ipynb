{
 "cells": [
  {
   "cell_type": "markdown",
   "source": [
    "### 데이터\n",
    "Downloaded from: https://github.com/hyerica-bdml/class-2020-bigdata/tree/master/W02\n",
    "\n",
    "### 문제\n",
    "* 주어진 샘플 개수에 대해 Simple random sampling과 Stratified sampling을 통해 각각 100번씩 average distance를 추정하고 샘플 평균과 샘플 평균의 분산을 계산하는 Python 코드를 작성하시오.\n",
    "* 샘플 개수를 1000, 2000, 4000, 8000, 16000개로 증가시키면서 두 샘플 방식의 샘플 평균 분산을 그래프로 그리시오 (matplotlib 사용)\n",
    "\n",
    "### 제출\n",
    "* 모든 코드와 그래프를 담고 있는 Jupyter Notebook 파일 (.ipynb)"
   ],
   "metadata": {}
  },
  {
   "cell_type": "code",
   "execution_count": 1,
   "source": [
    "import math\n",
    "\n",
    "def dist(x1, y1, x2, y2):\n",
    "    return math.sqrt((x1 - x2) ** 2 + (y1 - y2) ** 2)"
   ],
   "outputs": [],
   "metadata": {}
  },
  {
   "cell_type": "code",
   "execution_count": 2,
   "source": [
    "with open(\"1000000.txt\", \"r\") as f:\n",
    "    point_lines = f.readlines()\n",
    "    point_list = list()\n",
    "    for line in point_lines:\n",
    "        t = line.strip().split(',')\n",
    "        point_list.append((float(t[1]), float(t[2])))"
   ],
   "outputs": [],
   "metadata": {}
  },
  {
   "cell_type": "code",
   "execution_count": 3,
   "source": [
    "n_points = len(point_list)"
   ],
   "outputs": [],
   "metadata": {}
  },
  {
   "cell_type": "code",
   "execution_count": 4,
   "source": [
    "n_points"
   ],
   "outputs": [
    {
     "output_type": "execute_result",
     "data": {
      "text/plain": [
       "1000000"
      ]
     },
     "metadata": {},
     "execution_count": 4
    }
   ],
   "metadata": {}
  },
  {
   "cell_type": "code",
   "execution_count": 5,
   "source": [
    "test_n_samples = [ 1000, 2000, 4000, 8000, 16000 ]"
   ],
   "outputs": [],
   "metadata": {}
  },
  {
   "cell_type": "markdown",
   "source": [
    "# Simple Random Sampling"
   ],
   "metadata": {}
  },
  {
   "cell_type": "code",
   "execution_count": 6,
   "source": [
    "import random\n",
    "import matplotlib.pyplot as plt \n",
    "\n",
    "def sample_pair_self(n_points):\n",
    "    p = random.randrange(0, n_points)\n",
    "    while True:\n",
    "        q = random.randrange(0, n_points)\n",
    "        if q is not p:\n",
    "            break\n",
    "    return (p, q)\n",
    "\n",
    "def srs_average_dist_self(n_points, point_list, n_samples):\n",
    "    if n_samples == 0:\n",
    "        return 0\n",
    "    sum = 0.;\n",
    "    for _ in range(n_samples):\n",
    "        p, q = sample_pair_self(n_points)\n",
    "        sum += dist(point_list[p][0], point_list[p][1], point_list[q][0], point_list[q][1])\n",
    "    return sum / float(n_samples)\n",
    "\n",
    "def sample_pair(n_points1, n_points2):\n",
    "    return (random.randrange(0, n_points1), random.randrange(0, n_points2))\n",
    "\n",
    "def srs_average_dist(n_points1, point_list1, n_points2, point_list2, n_samples):\n",
    "    if n_samples == 0:\n",
    "        return 0\n",
    "    sum = 0.;\n",
    "    for _ in range(n_samples):\n",
    "        p, q = sample_pair(n_points1, n_points2)\n",
    "        sum += dist(point_list1[p][0], point_list1[p][1], point_list2[q][0], point_list2[q][1])\n",
    "    return sum / float(n_samples)\n",
    "\n",
    "def variance_of_sample_means(sample_means):\n",
    "    m = sum(sample_means) / len(sample_means)\n",
    "    sse = sum([ (v - m)**2 for v in sample_means ])\n",
    "    return sse / (len(sample_means) - 1)"
   ],
   "outputs": [],
   "metadata": {}
  },
  {
   "cell_type": "code",
   "execution_count": 7,
   "source": [
    "values = [ srs_average_dist_self(n_points, point_list, 10000) for _ in range(200) ]\n",
    "plt.hist(values, bins=10, cumulative=False, histtype='bar', orientation='vertical', rwidth=0.8,color='hotpink')\n",
    "plt.show()"
   ],
   "outputs": [
    {
     "output_type": "display_data",
     "data": {
      "image/png": "[encoded data removed]",
      "text/plain": [
       "<Figure size 432x288 with 1 Axes>"
      ]
     },
     "metadata": {
      "needs_background": "light"
     }
    }
   ],
   "metadata": {}
  },
  {
   "cell_type": "code",
   "execution_count": 8,
   "source": [
    "res_srs = list()\n",
    "for n_samples in test_n_samples:\n",
    "    values = [ srs_average_dist_self(n_points, point_list, n_samples) for _ in range(200) ]\n",
    "    var = variance_of_sample_means(values)\n",
    "    res_srs.append(var)"
   ],
   "outputs": [],
   "metadata": {}
  },
  {
   "cell_type": "code",
   "execution_count": 9,
   "source": [
    "plt.plot( test_n_samples, res_srs, linestyle='-', marker='o')\n",
    "plt.show()"
   ],
   "outputs": [
    {
     "output_type": "display_data",
     "data": {
      "image/png": "[encoded data removed]",
      "text/plain": [
       "<Figure size 432x288 with 1 Axes>"
      ]
     },
     "metadata": {
      "needs_background": "light"
     }
    }
   ],
   "metadata": {}
  },
  {
   "cell_type": "markdown",
   "source": [
    "# Stratified Sampling"
   ],
   "metadata": {}
  },
  {
   "cell_type": "code",
   "execution_count": 10,
   "source": [
    "with open('1000000.grid', 'r') as grid_file:\n",
    "    grid_lines = grid_file.readlines() \n",
    "    grid_x = [ float(v) for v in grid_lines[0].strip().split(\",\") ]\n",
    "    grid_y = [ float(v) for v in grid_lines[1].strip().split(\",\") ]\n",
    "    \n",
    "    # number of points in each grid unit\n",
    "    grid_size = [ int(v) for v in grid_lines[2].strip().split(\",\") ]"
   ],
   "outputs": [],
   "metadata": {}
  },
  {
   "cell_type": "code",
   "execution_count": 11,
   "source": [
    "grid_size"
   ],
   "outputs": [
    {
     "output_type": "execute_result",
     "data": {
      "text/plain": [
       "[224531,\n",
       " 153663,\n",
       " 71994,\n",
       " 23101,\n",
       " 153501,\n",
       " 106050,\n",
       " 49407,\n",
       " 15857,\n",
       " 72541,\n",
       " 49307,\n",
       " 23308,\n",
       " 7701,\n",
       " 23268,\n",
       " 15864,\n",
       " 7511,\n",
       " 2396]"
      ]
     },
     "metadata": {},
     "execution_count": 11
    }
   ],
   "metadata": {}
  },
  {
   "cell_type": "markdown",
   "source": [
    "### Compute strata size and ratio to population size"
   ],
   "metadata": {}
  },
  {
   "cell_type": "code",
   "execution_count": 12,
   "source": [
    "population_size = n_points * (n_points - 1) / 2\n",
    "\n",
    "# ratio to population size\n",
    "strata_ratio = [ \n",
    "    [ float(s * t) / float(population_size) if i < j else 0 for j, s in enumerate(grid_size) ]\n",
    "    for i, t in enumerate(grid_size)\n",
    "]\n",
    "for i, s in enumerate(grid_size):\n",
    "    strata_ratio[i][i] = float(s * (s-1) / 2) / float(population_size)"
   ],
   "outputs": [],
   "metadata": {}
  },
  {
   "cell_type": "code",
   "execution_count": 13,
   "source": [
    "population_size"
   ],
   "outputs": [
    {
     "output_type": "execute_result",
     "data": {
      "text/plain": [
       "499999500000.0"
      ]
     },
     "metadata": {},
     "execution_count": 13
    }
   ],
   "metadata": {}
  },
  {
   "cell_type": "code",
   "execution_count": 14,
   "source": [
    "# flatten\n",
    "flatten_strata_ratio = [ v for row in strata_ratio for v in row ]\n",
    "# flatten_strata_sample_size = [ v*1000000 for v in flatten_strata_ratio  ]\n",
    "# print(flatten_strata_sample_size)\n"
   ],
   "outputs": [],
   "metadata": {}
  },
  {
   "cell_type": "markdown",
   "source": [
    "### Sample point IDs from each grid unit\n",
    "\n",
    "1.\n",
    "\n",
    "With each grid ID i,\n",
    "* For $S_{ij}$ with all $j \\geq i$, sample <code>strata_sample_size[i][j]</code> point IDs from $G_i$ and $G_j$ respectively\n",
    "\n",
    "2.\n",
    "\n",
    "Make pairs of points each of which comes from different grid units\n",
    "\n",
    "3.\n",
    "\n",
    "With every pair,\n",
    "* compute distance (refer to broadcast data)\n",
    "* output distance with strata ID as key\n",
    "\n",
    "4.\n",
    "\n",
    "Compute average with each stratum"
   ],
   "metadata": {}
  },
  {
   "cell_type": "code",
   "execution_count": 15,
   "source": [
    "grid_group = [ list() for _ in range(len(grid_size)) ]\n",
    "# print(grid_group)\n",
    "\n",
    "\n",
    "with open(\"1000000.txt\", \"r\") as f:\n",
    "    point_lines = f.readlines()\n",
    "    for line in point_lines:\n",
    "        t = line.strip().split(',')\n",
    "        point = (float(t[1]), float(t[2]))\n",
    "        if point[0]<0.25 and point[1]<0.25:\n",
    "            grid_group[0].append(point)\n",
    "        elif point[0]<0.5 and point[1]<0.25:\n",
    "            grid_group[1].append(point)\n",
    "        elif point[0]<0.75 and point[1]<0.25:\n",
    "            grid_group[2].append(point)\n",
    "        elif point[0]<1 and point[1]<0.25:\n",
    "            grid_group[3].append(point)\n",
    "        elif point[0]<0.25 and point[1]<0.5:\n",
    "            grid_group[4].append(point)\n",
    "        elif point[0]<0.5 and point[1]<0.5:\n",
    "            grid_group[5].append(point)\n",
    "        elif point[0]<0.75 and point[1]<0.5:\n",
    "            grid_group[6].append(point)\n",
    "        elif point[0]<1 and point[1]<0.5:\n",
    "            grid_group[7].append(point)\n",
    "        elif point[0]<0.25 and point[1]<0.75:\n",
    "            grid_group[8].append(point)\n",
    "        elif point[0]<0.5 and point[1]<0.75:\n",
    "            grid_group[9].append(point)\n",
    "        elif point[0]<0.75 and point[1]<0.75:\n",
    "            grid_group[10].append(point)\n",
    "        elif point[0]<1 and point[1]<0.75:\n",
    "            grid_group[11].append(point)\n",
    "        elif point[0]<0.25 and point[1]<1:\n",
    "            grid_group[12].append(point)    \n",
    "        elif point[0]<0.5 and point[1]<1:\n",
    "            grid_group[13].append(point)    \n",
    "        elif point[0]<0.75 and point[1]<1:\n",
    "            grid_group[14].append(point)\n",
    "        elif point[0]<1 and point[1]<1:\n",
    "            grid_group[15].append(point)\n",
    "\n",
    "\n",
    "# check size\n",
    "for i, l in enumerate(grid_group):\n",
    "    assert grid_size[i] == len(l)"
   ],
   "outputs": [],
   "metadata": {}
  },
  {
   "cell_type": "code",
   "execution_count": 16,
   "source": [
    "# def srs_average_dist_self(n_points, point_list, n_samples):\n",
    "#     if n_samples == 0:\n",
    "#         return 0\n",
    "#     sum = 0.;\n",
    "#     for _ in range(n_samples):\n",
    "#         p, q = sample_pair_self(n_points)\n",
    "#         sum += dist(point_list[p][0], point_list[p][1], point_list[q][0], point_list[q][1])\n",
    "#     return sum / float(n_samples)\n",
    "\n",
    "# def srs_average_dist(n_points1, point_list1, n_points2, point_list2, n_samples):\n",
    "#     if n_samples == 0:\n",
    "#         return 0\n",
    "#     sum = 0.;\n",
    "#     for _ in range(n_samples):\n",
    "#         p, q = sample_pair(n_points1, n_points2)\n",
    "#         sum += dist(point_list1[p][0], point_list1[p][1], point_list2[q][0], point_list2[q][1])\n",
    "#     return sum / float(n_samples)\n",
    "\n",
    "def str_average_distance(grid_size, grid_group, strata_ratio, n_sample_size, n_try):\n",
    "    '''\n",
    "    Compute average distance using stratified sampling\n",
    "    \n",
    "    @params:\n",
    "    * grid_size: 2-d list for number of points in each grid unit (x-y axis)\n",
    "    * grid_group: 2-d list of list of points in each grid unit (x-y axis)\n",
    "    * strata_ratio: 2-d list of strata size ratio over population (stratum id-stratum id axis)\n",
    "    * n_sample_size: total sample number to select\n",
    "    * n_try: number of repeat of computing the estimator\n",
    "    '''\n",
    "    stratified_mean = [ 0. for _ in range(n_try) ]\n",
    "    test = [[] for _ in strata_ratio]\n",
    "\n",
    "\n",
    "    for i,x in enumerate(strata_ratio):\n",
    "        for j,y in enumerate(x):\n",
    "            test[i].append(round(y*n_sample_size))\n",
    "\n",
    "    strata_size  = sum([sum(t) for t in test])\n",
    "\n",
    "    if strata_size > n_sample_size:\n",
    "        test[0][0] -= strata_size - n_sample_size\n",
    "\n",
    "    for index in range(n_try):\n",
    "        average = 0\n",
    "        for i,x in enumerate(test):\n",
    "            for j,y in enumerate(x):\n",
    "                average += (srs_average_dist(grid_size[i],grid_group[i],grid_size[j],grid_group[j],y) * y / n_sample_size)\n",
    "        stratified_mean[index] = average\n",
    "    \n",
    "    return stratified_mean"
   ],
   "outputs": [],
   "metadata": {}
  },
  {
   "cell_type": "code",
   "execution_count": 17,
   "source": [
    "values = str_average_distance(grid_size, grid_group, strata_ratio, 10000, 200)\n",
    "plt.hist(values, bins=10, cumulative=False, histtype='bar', orientation='vertical', rwidth=0.8,color='hotpink')\n",
    "plt.show()"
   ],
   "outputs": [
    {
     "output_type": "display_data",
     "data": {
      "image/png": "[encoded data removed]",
      "text/plain": [
       "<Figure size 432x288 with 1 Axes>"
      ]
     },
     "metadata": {
      "needs_background": "light"
     }
    }
   ],
   "metadata": {}
  },
  {
   "cell_type": "code",
   "execution_count": 18,
   "source": [
    "res_str = list()\n",
    "for n_samples in test_n_samples:\n",
    "    values = str_average_distance(grid_size, grid_group, strata_ratio, n_samples, 200)\n",
    "    var = variance_of_sample_means(values)\n",
    "    res_str.append(var)"
   ],
   "outputs": [],
   "metadata": {}
  },
  {
   "cell_type": "code",
   "execution_count": 19,
   "source": [
    "plt.plot( test_n_samples, res_srs, linestyle='-', marker='o')\n",
    "plt.plot( test_n_samples, res_str, linestyle=':', marker='s')\n",
    "plt.show()"
   ],
   "outputs": [
    {
     "output_type": "display_data",
     "data": {
      "image/png": "[encoded data removed]",
      "text/plain": [
       "<Figure size 432x288 with 1 Axes>"
      ]
     },
     "metadata": {
      "needs_background": "light"
     }
    }
   ],
   "metadata": {}
  },
  {
   "cell_type": "code",
   "execution_count": null,
   "source": [],
   "outputs": [],
   "metadata": {}
  }
 ],
 "metadata": {
  "kernelspec": {
   "name": "python3",
   "display_name": "Python 3.8.8 64-bit ('base': conda)"
  },
  "language_info": {
   "codemirror_mode": {
    "name": "ipython",
    "version": 3
   },
   "file_extension": ".py",
   "mimetype": "text/x-python",
   "name": "python",
   "nbconvert_exporter": "python",
   "pygments_lexer": "ipython3",
   "version": "3.8.8"
  },
  "interpreter": {
   "hash": "958c9aa0b9ddc3af5b5985234d16f5bf853496039bc01ce52c1e3dbfccde22ac"
  }
 },
 "nbformat": 4,
 "nbformat_minor": 4
}