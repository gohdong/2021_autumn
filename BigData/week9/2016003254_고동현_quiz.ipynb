{
 "cells": [
  {
   "cell_type": "code",
   "execution_count": 1,
   "metadata": {},
   "outputs": [],
   "source": [
    "import findspark\n",
    "findspark.init()\n",
    "from pyspark import SparkContext\n",
    "\n",
    "sc = SparkContext(\"local\",\"quiz\")"
   ]
  },
  {
   "cell_type": "code",
   "execution_count": 2,
   "metadata": {},
   "outputs": [],
   "source": [
    "import numpy as np\n",
    "import math"
   ]
  },
  {
   "cell_type": "code",
   "execution_count": 17,
   "metadata": {},
   "outputs": [
    {
     "name": "stdout",
     "output_type": "stream",
     "text": [
      "Final w: [-1.73487478e+00  1.99873718e+00  2.84085823e+00  9.98352239e+00\n",
      "  1.05829633e+00  8.09714200e+00  7.00189057e+00  4.99988469e+00\n",
      "  8.99983316e+00 -9.50657126e-05  5.99891367e+00]\n"
     ]
    }
   ],
   "source": [
    "data = sc.textFile('./cardio_train.csv').map(lambda x : (np.array([float(y)/10000 for y in x.split(';')[1:12]]),int(x.split(';')[-1]))).cache()\n",
    "\n",
    "temp = data.collect()\n",
    "train_set = sc.parallelize(temp[:42000]).cache()\n",
    "test_set = sc.parallelize(temp[42000:]).cache()\n",
    "\n",
    "w = np.random.permutation(11)\n",
    "temp = [float(a) for a in w]\n",
    "\n",
    "w = np.array(temp)\n",
    "\n",
    "\n",
    "learning_rate = 0.0001\n",
    "for _ in range(100):\n",
    "    gradient = train_set.map(lambda p:(p[1] - 1 / (1 + math.exp(-np.dot(w,p[0])))) * p[0]).reduce(lambda a, b: a + b)\n",
    "    w += learning_rate * np.array(gradient)\n",
    "\n",
    "print(\"Final w: {}\".format(w))\n"
   ]
  },
  {
   "cell_type": "code",
   "execution_count": 18,
   "metadata": {},
   "outputs": [],
   "source": [
    "test_set = test_set.collect()"
   ]
  },
  {
   "cell_type": "code",
   "execution_count": 19,
   "metadata": {},
   "outputs": [],
   "source": [
    "hit_count = 0\n",
    "for t_s in test_set:\n",
    "\tif round(1 / (1 + math.exp(-np.dot(w,t_s[0])))) == t_s[1]:\n",
    "\t\thit_count +=1"
   ]
  },
  {
   "cell_type": "code",
   "execution_count": 22,
   "metadata": {},
   "outputs": [
    {
     "name": "stdout",
     "output_type": "stream",
     "text": [
      "정확도 : 49.93571428571428\n"
     ]
    }
   ],
   "source": [
    "print(f\"정확도 : {hit_count/len(test_set)*100}\")"
   ]
  },
  {
   "cell_type": "code",
   "execution_count": null,
   "metadata": {},
   "outputs": [],
   "source": []
  }
 ],
 "metadata": {
  "interpreter": {
   "hash": "31f2aee4e71d21fbe5cf8b01ff0e069b9275f58929596ceb00d14d90e3e16cd6"
  },
  "kernelspec": {
   "display_name": "Python 3.8.9 64-bit",
   "language": "python",
   "name": "python3"
  },
  "language_info": {
   "codemirror_mode": {
    "name": "ipython",
    "version": 3
   },
   "file_extension": ".py",
   "mimetype": "text/x-python",
   "name": "python",
   "nbconvert_exporter": "python",
   "pygments_lexer": "ipython3",
   "version": "3.8.8"
  },
  "orig_nbformat": 4
 },
 "nbformat": 4,
 "nbformat_minor": 2
}
