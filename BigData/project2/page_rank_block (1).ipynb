{
  "nbformat": 4,
  "nbformat_minor": 0,
  "metadata": {
    "colab": {
      "name": "page_rank_block.ipynb",
      "provenance": [],
      "collapsed_sections": []
    },
    "kernelspec": {
      "name": "python3",
      "display_name": "Python 3"
    },
    "language_info": {
      "name": "python"
    }
  },
  "cells": [
    {
      "cell_type": "code",
      "metadata": {
        "colab": {
          "base_uri": "https://localhost:8080/"
        },
        "id": "RwAC2bMyTh2o",
        "outputId": "fb14fd44-b5ee-48ee-df06-faf8f171a23a"
      },
      "source": [
        "!apt-get install openjdk-8-jdk-headless -qq > /dev/null\n",
        "!wget https://dlcdn.apache.org/spark/spark-3.1.2/spark-3.1.2-bin-hadoop2.7.tgz \n",
        "!tar xf spark-3.1.2-bin-hadoop2.7.tgz\n",
        "!pip install findspark\n",
        "!pip install pyspark"
      ],
      "execution_count": 1,
      "outputs": [
        {
          "output_type": "stream",
          "name": "stdout",
          "text": [
            "--2021-11-02 12:00:06--  https://dlcdn.apache.org/spark/spark-3.1.2/spark-3.1.2-bin-hadoop2.7.tgz\n",
            "Resolving dlcdn.apache.org (dlcdn.apache.org)... 151.101.2.132, 2a04:4e42::644\n",
            "Connecting to dlcdn.apache.org (dlcdn.apache.org)|151.101.2.132|:443... connected.\n",
            "HTTP request sent, awaiting response... 200 OK\n",
            "Length: 224445805 (214M) [application/x-gzip]\n",
            "Saving to: ‘spark-3.1.2-bin-hadoop2.7.tgz’\n",
            "\n",
            "spark-3.1.2-bin-had 100%[===================>] 214.05M   168MB/s    in 1.3s    \n",
            "\n",
            "2021-11-02 12:00:07 (168 MB/s) - ‘spark-3.1.2-bin-hadoop2.7.tgz’ saved [224445805/224445805]\n",
            "\n",
            "Collecting findspark\n",
            "  Downloading findspark-1.4.2-py2.py3-none-any.whl (4.2 kB)\n",
            "Installing collected packages: findspark\n",
            "Successfully installed findspark-1.4.2\n",
            "Collecting pyspark\n",
            "  Downloading pyspark-3.2.0.tar.gz (281.3 MB)\n",
            "\u001b[K     |████████████████████████████████| 281.3 MB 38 kB/s \n",
            "\u001b[?25hCollecting py4j==0.10.9.2\n",
            "  Downloading py4j-0.10.9.2-py2.py3-none-any.whl (198 kB)\n",
            "\u001b[K     |████████████████████████████████| 198 kB 58.9 MB/s \n",
            "\u001b[?25hBuilding wheels for collected packages: pyspark\n",
            "  Building wheel for pyspark (setup.py) ... \u001b[?25l\u001b[?25hdone\n",
            "  Created wheel for pyspark: filename=pyspark-3.2.0-py2.py3-none-any.whl size=281805912 sha256=1cc35739223a68a0696a52c3877cb4ebe67777afe9d9c7cf2bb52dd97047518a\n",
            "  Stored in directory: /root/.cache/pip/wheels/0b/de/d2/9be5d59d7331c6c2a7c1b6d1a4f463ce107332b1ecd4e80718\n",
            "Successfully built pyspark\n",
            "Installing collected packages: py4j, pyspark\n",
            "Successfully installed py4j-0.10.9.2 pyspark-3.2.0\n"
          ]
        }
      ]
    },
    {
      "cell_type": "code",
      "metadata": {
        "colab": {
          "base_uri": "https://localhost:8080/"
        },
        "id": "9RJRYQS6TmUy",
        "outputId": "e887c1db-34f8-4371-e429-0600a8f0b0b3"
      },
      "source": [
        "!pip install numpy\n",
        "\n",
        "\n",
        "import os\n",
        "os.environ[\"JAVA_HOME\"] = \"/usr/lib/jvm/java-8-openjdk-amd64\"\n",
        "os.environ[\"SPARK_HOME\"] = \"/content/spark-3.1.2-bin-hadoop2.7\"\n",
        "\n",
        "import findspark\n",
        "findspark.init()\n",
        "from pyspark import SparkContext\n",
        "\n",
        "\n",
        "sc = SparkContext(\"local[2]\",\"page_block\")\n",
        "\n",
        "input = sc.textFile('./drive/MyDrive/pagerank_data.txt')"
      ],
      "execution_count": 2,
      "outputs": [
        {
          "output_type": "stream",
          "name": "stdout",
          "text": [
            "Requirement already satisfied: numpy in /usr/local/lib/python3.7/dist-packages (1.19.5)\n"
          ]
        }
      ]
    },
    {
      "cell_type": "code",
      "metadata": {
        "id": "jlIk84U7Tvgw"
      },
      "source": [
        "data = input.map(lambda x: [int(temp) for temp in x.split(' ')]).map(lambda x: (x[0],x[1:]))"
      ],
      "execution_count": 3,
      "outputs": []
    },
    {
      "cell_type": "code",
      "metadata": {
        "id": "kcSHyMdqhIm0"
      },
      "source": [
        "# referenced_order =  sc.broadcast(input.map(lambda x: [(int(temp),1) for temp in x.split(' ')]).flatMap(lambda x: x).reduceByKey(lambda x,y:x+y).sortBy(lambda x: x[1],ascending=False).map(lambda x:x[0]).collect())\n",
        "# data = input.map(lambda x: [int(temp) for temp in x.split(' ')]).map(lambda x: (x[0],sorted(x[1:],key=lambda y:referenced_order.value.index(y))))"
      ],
      "execution_count": 12,
      "outputs": []
    },
    {
      "cell_type": "code",
      "metadata": {
        "id": "JneCMhPgT7Zj"
      },
      "source": [
        "def generate_block(N):\n",
        "  temp = data\n",
        "  for i in range(N):\n",
        "    if(i==0):\n",
        "      temp = data.map(lambda x: (x[0],x[1][:(len(x[1])//N)]))\n",
        "    elif (i==N-1):\n",
        "      temp += data.map(lambda x: (x[0],x[1][i*(len(x[1])//N):]))\n",
        "    else:\n",
        "      temp += data.map(lambda x: (x[0],x[1][i*(len(x[1])//N):(i+1)*(len(x[1])//N)]))\n",
        "  return temp"
      ],
      "execution_count": 6,
      "outputs": []
    },
    {
      "cell_type": "code",
      "metadata": {
        "id": "EViTfh61U9N9"
      },
      "source": [
        "def cul(N,maxIter):\n",
        "  convergenceTol = 0.0001\n",
        "  d= 0.85\n",
        "  block_arr = generate_block(N)\n",
        "  pr = sc.broadcast([1./float(30000) for _ in range(30000)])\n",
        "  for _ in range(maxIter):\n",
        "    iter = block_arr.flatMap(lambda t : [(target,(pr.value[t[0]]) / ((len(t[1])*N))) for target in t[1]])\\\n",
        "            .reduceByKey(lambda x,y : x+y).mapValues(lambda v : d*v).cache()\n",
        "\n",
        "    temp = data.map(lambda x: (x[0],1/(30000)*(1-d)))\n",
        "    result = temp.union(iter).reduceByKey(lambda x,y:x+y).sortByKey()\n",
        "    err = result.map(lambda t: abs(pr.value[t[0]] - t[1])).sum()/N\n",
        "    print(err)\n",
        "    if err < convergenceTol:\n",
        "      pr = result.map(lambda t:t[1]).collect()\n",
        "      return pr\n",
        "    pr = sc.broadcast(result.map(lambda t:t[1]).collect())\n",
        "  return pr\n"
      ],
      "execution_count": 9,
      "outputs": []
    },
    {
      "cell_type": "code",
      "metadata": {
        "id": "ke3BecNE-pfi"
      },
      "source": [
        "result = cul(1,1)"
      ],
      "execution_count": null,
      "outputs": []
    },
    {
      "cell_type": "code",
      "metadata": {
        "id": "Eu3B7xoN_VvI"
      },
      "source": [
        "result.value[:30]"
      ],
      "execution_count": null,
      "outputs": []
    }
  ]
}