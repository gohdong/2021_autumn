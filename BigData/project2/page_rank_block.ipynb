{
  "cells": [
    {
      "cell_type": "code",
      "execution_count": 1,
      "metadata": {
        "colab": {
          "base_uri": "https://localhost:8080/"
        },
        "id": "9RJRYQS6TmUy",
        "outputId": "e872b303-8741-4bc6-b5fc-c95b3718cc13"
      },
      "outputs": [
        {
          "name": "stdout",
          "output_type": "stream",
          "text": [
            "Requirement already satisfied: numpy in /usr/local/lib/python3.7/dist-packages (1.19.5)\n"
          ]
        }
      ],
      "source": [
        "import findspark\n",
        "findspark.init()\n",
        "from pyspark import SparkContext\n",
        "\n",
        "sc = SparkContext(\"local[10]\",\"bruted_force\")\n",
        "\n",
        "input = sc.textFile('./pagerank_data.txt')"
      ]
    },
    {
      "cell_type": "code",
      "execution_count": 2,
      "metadata": {
        "id": "jlIk84U7Tvgw"
      },
      "outputs": [],
      "source": [
        "data = input.map(lambda x: [int(temp) for temp in x.split(' ')]).map(lambda x: (x[0],x[1:]))"
      ]
    },
    {
      "cell_type": "code",
      "execution_count": 54,
      "metadata": {
        "id": "nLf3EanxQ8Mb"
      },
      "outputs": [],
      "source": [
        "block_1 = data.map(lambda x: (x[0],x[1][:len(x[1])//3]))\n",
        "block_2 = data.map(lambda x: (x[0],x[1][len(x[1])//3:2*(len(x[1])//3)]))\n",
        "block_3 = data.map(lambda x: (x[0],x[1][2*(len(x[1])//3):]))"
      ]
    },
    {
      "cell_type": "code",
      "execution_count": 53,
      "metadata": {
        "id": "JneCMhPgT7Zj"
      },
      "outputs": [],
      "source": [
        "def generate_block(N):\n",
        "  temp = data\n",
        "  for i in range(N):\n",
        "    if(i==0):\n",
        "      temp = data.map(lambda x: (x[0],x[1][:(len(x[1])//N)]))\n",
        "    elif (i==N-1):\n",
        "      temp += data.map(lambda x: (x[0],x[1][i*(len(x[1])//N):]))\n",
        "    else:\n",
        "      temp += data.map(lambda x: (x[0],x[1][i*(len(x[1])//N):(i+1)*(len(x[1])//N)]))\n",
        "  return temp"
      ]
    },
    {
      "cell_type": "code",
      "execution_count": 55,
      "metadata": {
        "id": "ml4CKB_1RhyF"
      },
      "outputs": [],
      "source": [
        "temp = generate_block(3)\n",
        "block_arr = block_1+block_2+block_3"
      ]
    },
    {
      "cell_type": "code",
      "execution_count": 56,
      "metadata": {
        "colab": {
          "base_uri": "https://localhost:8080/"
        },
        "id": "DSD2OBQCRpTS",
        "outputId": "7fd20828-38cb-4005-d7aa-016af4051e00"
      },
      "outputs": [
        {
          "name": "stdout",
          "output_type": "stream",
          "text": [
            "333 333\n"
          ]
        }
      ],
      "source": [
        "print(len(temp.first()[1]),len(block_arr.first()[1]))"
      ]
    },
    {
      "cell_type": "code",
      "execution_count": 98,
      "metadata": {
        "id": "EViTfh61U9N9"
      },
      "outputs": [],
      "source": [
        "def cul(N,maxIter):\n",
        "  convergenceTol = 0.0001\n",
        "  d= 0.85\n",
        "  block_arr = generate_block(N);\n",
        "  pr = sc.broadcast([1./float(30000) for _ in range(30000)])\n",
        "  for _ in range(maxIter):\n",
        "    iter = block_arr.flatMap(lambda t : [(target,(pr.value[t[0]]) / ((len(t[1])*N))) for target in t[1]])\\\n",
        "            .reduceByKey(lambda x,y : x+y).mapValues(lambda v : d*v).cache()\n",
        "\n",
        "    temp = data.map(lambda x: (x[0],1/(30000)*(1-d)))\n",
        "    result = temp.union(iter).reduceByKey(lambda x,y:x+y).sortByKey()\n",
        "    err = result.map(lambda t: abs(pr.value[t[0]] - t[1])).sum()/N\n",
        "    print(err)\n",
        "    if err < convergenceTol:\n",
        "      pr = result.map(lambda t:t[1]).collect()\n",
        "      return pr\n",
        "    pr = sc.broadcast(result.map(lambda t:t[1]).collect())\n",
        "  return pr\n"
      ]
    },
    {
      "cell_type": "code",
      "execution_count": null,
      "metadata": {
        "id": "ke3BecNE-pfi"
      },
      "outputs": [],
      "source": [
        "result = cul(10,20)"
      ]
    },
    {
      "cell_type": "code",
      "execution_count": 88,
      "metadata": {
        "colab": {
          "base_uri": "https://localhost:8080/"
        },
        "id": "Eu3B7xoN_VvI",
        "outputId": "4ecca2d5-14ee-4856-9779-32839e6ac496"
      },
      "outputs": [
        {
          "data": {
            "text/plain": [
              "[5.000000000000001e-06,\n",
              " 0.000855386546912898,\n",
              " 0.000855386546912898,\n",
              " 0.000855386546912898,\n",
              " 0.000855386546912898,\n",
              " 0.000855386546912898,\n",
              " 0.000855386546912898,\n",
              " 0.000855386546912898,\n",
              " 0.000855386546912898,\n",
              " 0.000855386546912898,\n",
              " 0.000855386546912898,\n",
              " 0.000855386546912898,\n",
              " 0.000855386546912898,\n",
              " 0.000855386546912898,\n",
              " 0.000855386546912898,\n",
              " 0.0008553865469128976,\n",
              " 0.0008553865469128979,\n",
              " 0.0008553865469128979,\n",
              " 0.0008553865469128979,\n",
              " 0.000855386546912898,\n",
              " 0.000855386546912898,\n",
              " 0.0008553865469128979,\n",
              " 0.0008553865469128979,\n",
              " 0.0008553865469128979,\n",
              " 0.000855386546912898,\n",
              " 0.000855386546912898,\n",
              " 0.000855386546912898,\n",
              " 0.000855386546912898,\n",
              " 0.0008553865469128979,\n",
              " 0.000855386546912898]"
            ]
          },
          "execution_count": 88,
          "metadata": {},
          "output_type": "execute_result"
        }
      ],
      "source": [
        "result.value[:30]"
      ]
    },
    {
      "cell_type": "code",
      "execution_count": 83,
      "metadata": {
        "id": "Z8qv9WVvBbjJ"
      },
      "outputs": [],
      "source": [
        "temp = generate_block(3)\n",
        "pr = sc.broadcast([1./float(30000) for _ in range(30000)])\n",
        "N=3\n",
        "d = 0.85"
      ]
    },
    {
      "cell_type": "code",
      "execution_count": 85,
      "metadata": {
        "colab": {
          "base_uri": "https://localhost:8080/"
        },
        "id": "N3aT1vrcc-Lr",
        "outputId": "bae206c0-5c1c-49db-eaf8-02ef2b3f1d29"
      },
      "outputs": [
        {
          "data": {
            "text/plain": [
              "[(1, 0.000855386546912898),\n",
              " (2, 0.000855386546912898),\n",
              " (3, 0.000855386546912898),\n",
              " (4, 0.000855386546912898),\n",
              " (5, 0.000855386546912898),\n",
              " (6, 0.000855386546912898),\n",
              " (7, 0.000855386546912898),\n",
              " (8, 0.000855386546912898),\n",
              " (9, 0.000855386546912898),\n",
              " (10, 0.000855386546912898),\n",
              " (11, 0.000855386546912898),\n",
              " (12, 0.000855386546912898),\n",
              " (13, 0.000855386546912898),\n",
              " (14, 0.000855386546912898),\n",
              " (15, 0.0008553865469128976),\n",
              " (16, 0.0008553865469128979),\n",
              " (17, 0.0008553865469128979),\n",
              " (18, 0.0008553865469128979),\n",
              " (19, 0.000855386546912898),\n",
              " (20, 0.000855386546912898),\n",
              " (21, 0.0008553865469128979),\n",
              " (22, 0.0008553865469128979),\n",
              " (23, 0.0008553865469128979),\n",
              " (24, 0.000855386546912898),\n",
              " (25, 0.000855386546912898),\n",
              " (26, 0.000855386546912898),\n",
              " (27, 0.000855386546912898),\n",
              " (28, 0.0008553865469128979),\n",
              " (29, 0.000855386546912898),\n",
              " (30, 0.0008553865469128976)]"
            ]
          },
          "execution_count": 85,
          "metadata": {},
          "output_type": "execute_result"
        }
      ],
      "source": [
        "iter.take(30)"
      ]
    }
  ],
  "metadata": {
    "colab": {
      "collapsed_sections": [],
      "name": "page_rank_block.ipynb",
      "provenance": []
    },
    "kernelspec": {
      "display_name": "Python 3",
      "name": "python3"
    },
    "language_info": {
      "name": "python"
    }
  },
  "nbformat": 4,
  "nbformat_minor": 0
}
