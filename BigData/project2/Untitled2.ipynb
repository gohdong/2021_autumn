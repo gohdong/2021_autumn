{
  "cells": [
    {
      "cell_type": "code",
      "execution_count": 1,
      "metadata": {
        "id": "kt3SIFrQBoJB"
      },
      "outputs": [],
      "source": [
        "import findspark\n",
        "findspark.init()\n",
        "from pyspark import SparkContext\n",
        "\n",
        "sc = SparkContext(\"local[10]\",\"bruted_force\")"
      ]
    },
    {
      "cell_type": "code",
      "execution_count": 2,
      "metadata": {
        "id": "tv-ZLpT7CCFh"
      },
      "outputs": [],
      "source": [
        "import time"
      ]
    },
    {
      "cell_type": "code",
      "execution_count": 3,
      "metadata": {
        "id": "mqIvH9YREd1V"
      },
      "outputs": [],
      "source": [
        "input_rdd = sc.textFile(\"./pagerank_data.txt\")"
      ]
    },
    {
      "cell_type": "code",
      "execution_count": 4,
      "metadata": {
        "id": "aXqzjjpHEfva"
      },
      "outputs": [],
      "source": [
        "BLOCK_SIZE = [16,8,4,2,1]\n",
        "MAX_ITER_COUNT = 20\n",
        "HYPER_PARAMETER = 0.85\n",
        "time_result = []\n",
        "CONVERGENCE_TOL = 0.0001"
      ]
    },
    {
      "cell_type": "code",
      "execution_count": 9,
      "metadata": {},
      "outputs": [],
      "source": [
        "count = 0 "
      ]
    },
    {
      "cell_type": "code",
      "execution_count": 5,
      "metadata": {
        "id": "6X_Uyy8UHPUG"
      },
      "outputs": [],
      "source": [
        "input_rdd = input_rdd.map(lambda x : [int(y) for y in x.split(' ')]).map(lambda x : (x[0],x[1:]))"
      ]
    },
    {
      "cell_type": "code",
      "execution_count": 10,
      "metadata": {
        "id": "iEQWcLABFzGp"
      },
      "outputs": [],
      "source": [
        "time_start = time.time()\n",
        "p_i = sc.broadcast([1/30000 for _ in range(30000)])\n",
        "for j in range(20):\n",
        "  count+=1\n",
        "  key_pair = input_rdd.flatMap(lambda x:[ (i,p_i.value[x[0]] / len(x[1])) for i in x[1]])\n",
        "  new_p_i = key_pair.reduceByKey(lambda x,y : x+y)\n",
        "\n",
        "  post_process_p_i = new_p_i.map(lambda x : (x[0],HYPER_PARAMETER*x[1] + (1-HYPER_PARAMETER)/30000))\n",
        "\n",
        "\n",
        "  temp_p_i = [(1-HYPER_PARAMETER)/30000 for _ in range(30000)]\n",
        "  result = post_process_p_i.collect()\n",
        "\n",
        "  for r in result:\n",
        "    temp_p_i[r[0]] = r[1]\n",
        "\n",
        "  err = sum([abs(p_i.value[i] - temp_p_i[i]) for i in range(30000)])\n",
        "  if err < CONVERGENCE_TOL:\n",
        "    break\n",
        "\n",
        "  # print(err,temp_p_i)\n",
        "  p_i = sc.broadcast(temp_p_i)\n",
        "\n",
        "time_result.append(time.time()-time_start)"
      ]
    },
    {
      "cell_type": "code",
      "execution_count": 11,
      "metadata": {
        "colab": {
          "base_uri": "https://localhost:8080/"
        },
        "id": "NbUH9sDEGaHP",
        "outputId": "e0a2236f-c883-42d9-8df1-7972b69c15ba"
      },
      "outputs": [
        {
          "data": {
            "text/plain": [
              "4"
            ]
          },
          "execution_count": 11,
          "metadata": {},
          "output_type": "execute_result"
        }
      ],
      "source": [
        "count"
      ]
    },
    {
      "cell_type": "code",
      "execution_count": null,
      "metadata": {
        "id": "ihwafCKhIfvw"
      },
      "outputs": [],
      "source": []
    }
  ],
  "metadata": {
    "colab": {
      "name": "Untitled2.ipynb",
      "provenance": []
    },
    "interpreter": {
      "hash": "8a0fa79249486d94e8948cdad44f9abb813c43509f4241428823b3ec5ef0d972"
    },
    "kernelspec": {
      "display_name": "Python 3.8.8 64-bit ('base': conda)",
      "name": "python3"
    },
    "language_info": {
      "codemirror_mode": {
        "name": "ipython",
        "version": 3
      },
      "file_extension": ".py",
      "mimetype": "text/x-python",
      "name": "python",
      "nbconvert_exporter": "python",
      "pygments_lexer": "ipython3",
      "version": "3.8.8"
    }
  },
  "nbformat": 4,
  "nbformat_minor": 0
}
