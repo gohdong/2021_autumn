{
 "cells": [
  {
   "cell_type": "code",
   "execution_count": 1,
   "source": [
    "import findspark\n",
    "findspark.init()\n",
    "from pyspark import SparkContext\n",
    "import numpy as np\n",
    "\n",
    "sc = SparkContext(\"local\",\"quiz 2\")"
   ],
   "outputs": [],
   "metadata": {}
  },
  {
   "cell_type": "code",
   "execution_count": 2,
   "source": [
    "def create_dataset(N, D=2, minval=[0,0],maxval=[1,1]):\n",
    "\tdataset = np.zeros((N,D+1))\n",
    "\n",
    "\tdataset[:,0] = np.arange(N, dtype='int')\n",
    "\n",
    "\tfor i in range(D):\n",
    "\t\tvec = np.random.rand(N) * (maxval[i] - minval[i])  + minval[i]\n",
    "\t\tdataset[:,i+1] = vec\n",
    "\treturn dataset"
   ],
   "outputs": [],
   "metadata": {}
  },
  {
   "cell_type": "markdown",
   "source": [],
   "metadata": {}
  },
  {
   "cell_type": "code",
   "execution_count": 3,
   "source": [
    "data_size = [200,400,800,1600]\n",
    "block_size = [1,2,4,8]"
   ],
   "outputs": [],
   "metadata": {}
  },
  {
   "cell_type": "code",
   "execution_count": 4,
   "source": [
    "import time\n",
    "\n",
    "for ds in data_size:\n",
    "\tdataset = create_dataset(ds)\n",
    "\tfor bs in block_size:\n",
    "\t\tblocks = [0]+[(i+1) * ds//bs for i in range(bs)]\n",
    "\t\tstart_time = time.time()\n",
    "\t\ttemp = 0\n",
    "\t\tfor b1 in range(bs):\n",
    "\t\t\tfor b2 in range(bs):\n",
    "\t\t\t\tfor t1 in dataset[blocks[b1]:blocks[b1+1]]:\n",
    "\t\t\t\t\tfor t2 in dataset[blocks[b2]:blocks[b2+1]]:\n",
    "\t\t\t\t\t\ttemp += ((t2[1]-t1[1])**2 + (t2[2]-t1[2])**2)**5\n",
    "\t\tprint(f'DataSize : {ds}, BlockSize : {bs} , Time:{time.time()-start_time}')\n"
   ],
   "outputs": [
    {
     "output_type": "stream",
     "name": "stdout",
     "text": [
      "DataSize : 200, BlockSize : 1 , Time:0.15610980987548828\n",
      "DataSize : 200, BlockSize : 2 , Time:0.12714195251464844\n",
      "DataSize : 200, BlockSize : 4 , Time:0.14471697807312012\n",
      "DataSize : 200, BlockSize : 8 , Time:0.11910223960876465\n",
      "DataSize : 400, BlockSize : 1 , Time:0.4781670570373535\n",
      "DataSize : 400, BlockSize : 2 , Time:0.4980149269104004\n",
      "DataSize : 400, BlockSize : 4 , Time:0.5308899879455566\n",
      "DataSize : 400, BlockSize : 8 , Time:0.5809657573699951\n",
      "DataSize : 800, BlockSize : 1 , Time:1.74757981300354\n",
      "DataSize : 800, BlockSize : 2 , Time:1.8942558765411377\n",
      "DataSize : 800, BlockSize : 4 , Time:1.70408296585083\n",
      "DataSize : 800, BlockSize : 8 , Time:1.6086819171905518\n",
      "DataSize : 1600, BlockSize : 1 , Time:6.409414052963257\n",
      "DataSize : 1600, BlockSize : 2 , Time:6.284358739852905\n",
      "DataSize : 1600, BlockSize : 4 , Time:6.5732221603393555\n",
      "DataSize : 1600, BlockSize : 8 , Time:5.923628091812134\n"
     ]
    }
   ],
   "metadata": {}
  },
  {
   "cell_type": "code",
   "execution_count": null,
   "source": [],
   "outputs": [],
   "metadata": {}
  }
 ],
 "metadata": {
  "orig_nbformat": 4,
  "language_info": {
   "name": "python",
   "version": "3.8.8",
   "mimetype": "text/x-python",
   "codemirror_mode": {
    "name": "ipython",
    "version": 3
   },
   "pygments_lexer": "ipython3",
   "nbconvert_exporter": "python",
   "file_extension": ".py"
  },
  "kernelspec": {
   "name": "python3",
   "display_name": "Python 3.8.8 64-bit ('base': conda)"
  },
  "interpreter": {
   "hash": "958c9aa0b9ddc3af5b5985234d16f5bf853496039bc01ce52c1e3dbfccde22ac"
  }
 },
 "nbformat": 4,
 "nbformat_minor": 2
}