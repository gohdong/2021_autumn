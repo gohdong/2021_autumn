{
 "cells": [
  {
   "cell_type": "code",
   "execution_count": 1,
   "source": [
    "import findspark\n",
    "findspark.init()\n",
    "from pyspark import SparkContext\n",
    "\n",
    "sc = SparkContext(\"local\",\"quiz 1\")"
   ],
   "outputs": [],
   "metadata": {}
  },
  {
   "cell_type": "code",
   "execution_count": 2,
   "source": [
    "def multiple(x):\n",
    "\ttotal = 0\n",
    "\tx.sort(key = lambda x:x[0])\n",
    "\tfor i in range(0,len(x),2):\n",
    "\t\ttotal += x[i][1]*x[i+1][1]\n",
    "\n",
    "\treturn total\n",
    "\n",
    "\n",
    "def mat_multiply(a_mat : str, b_mat :str):\n",
    "\ta = sc.textFile(\"A\"+a_mat+\".txt\")\n",
    "\tb = sc.textFile(\"B\"+b_mat+\".txt\")\n",
    "\ttotal_map = sc.emptyRDD()\n",
    "\tdef func_1(x):\n",
    "\t\ttemp = []\n",
    "\t\tfor i in range(int(b_mat.split('x')[1])):\n",
    "\t\t\ttemp.append(((int(x.split(',')[1]),i),(int(x.split(',')[2]),int(x.split(',')[3]))))\n",
    "\t\treturn temp\n",
    "\tdef func_2(x):\n",
    "\t\ttemp = []\n",
    "\t\tfor i in range(int(a_mat.split('x')[0])):\n",
    "\t\t\ttemp.append(((i,(int(x.split(',')[2]))),(int(x.split(',')[1]),int(x.split(',')[3]))))\t\n",
    "\t\treturn temp\n",
    "\n",
    "\ttotal_map = total_map.union(a.flatMap(lambda x : func_1(x))) \n",
    "\ttotal_map = total_map.union(b.flatMap(lambda x : func_2(x))) \n",
    "\t# print(\"AA?\")\n",
    "\ttest = total_map.groupByKey().mapValues(list)\n",
    "\t# print(\"BB?\")\n",
    "\ttest2 = test.mapValues(multiple)\n",
    "\ttotal_sum= 0\n",
    "\ta = test2.flatMap(lambda x: [x[1]])\n",
    "\n",
    "\t# print(a)\n",
    "\n",
    "\treturn a.reduce(lambda x,y:x+y)\n",
    "\t"
   ],
   "outputs": [],
   "metadata": {}
  },
  {
   "cell_type": "code",
   "execution_count": 3,
   "source": [
    "a_mat = [\"200x100\",\"400x200\",\"800x400\",\"1600x800\",\"3200x1600\"]\n",
    "b_mat = [\"100x10\",\"200x20\",\"400x40\",\"800x80\",\"1600x160\"]"
   ],
   "outputs": [],
   "metadata": {}
  },
  {
   "cell_type": "code",
   "execution_count": 4,
   "source": [
    "import time\n",
    "times = []\n",
    "for i in range(len(a_mat)):\n",
    "\tstart = time.time()\n",
    "\tprint(mat_multiply(a_mat[i],b_mat[i]))\n",
    "\ttimes.append(time.time()-start)\n",
    "\n",
    "print(times)"
   ],
   "outputs": [
    {
     "output_type": "stream",
     "name": "stdout",
     "text": [
      "9005\n",
      "12285\n",
      "191660\n",
      "-260798\n",
      "-2195889\n",
      "[4.316144943237305, 13.49642014503479, 128.1768138408661, 1095.4141759872437, 11632.219221115112]\n"
     ]
    }
   ],
   "metadata": {}
  },
  {
   "cell_type": "code",
   "execution_count": null,
   "source": [],
   "outputs": [],
   "metadata": {}
  }
 ],
 "metadata": {
  "orig_nbformat": 4,
  "language_info": {
   "name": "python",
   "version": "3.8.8",
   "mimetype": "text/x-python",
   "codemirror_mode": {
    "name": "ipython",
    "version": 3
   },
   "pygments_lexer": "ipython3",
   "nbconvert_exporter": "python",
   "file_extension": ".py"
  },
  "kernelspec": {
   "name": "python3",
   "display_name": "Python 3.8.8 64-bit ('base': conda)"
  },
  "interpreter": {
   "hash": "958c9aa0b9ddc3af5b5985234d16f5bf853496039bc01ce52c1e3dbfccde22ac"
  }
 },
 "nbformat": 4,
 "nbformat_minor": 2
}